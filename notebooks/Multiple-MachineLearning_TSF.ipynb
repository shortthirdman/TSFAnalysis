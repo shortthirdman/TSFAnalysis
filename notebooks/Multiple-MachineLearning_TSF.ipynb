{
 "cells": [
  {
   "cell_type": "markdown",
   "id": "59ef7db1-f680-4453-958f-29dda249a10d",
   "metadata": {},
   "source": [
    "### [Multiple-ML Time Series Forecasting (TSF) across Industries](https://python.plainenglish.io/using-skforecast-for-multiple-ml-time-series-forecasting-tsf-across-industries-3-fe07f82b797b)\n",
    "\n",
    "> Skforecast Recursive Multi-Step TSF with LightGBM Model Tuning & Feature Dominance Analysis"
   ]
  },
  {
   "cell_type": "markdown",
   "id": "3b0100ab-6828-411b-b922-54203239743a",
   "metadata": {},
   "source": [
    "The ultimate goal  is to unleash the power of Skforecast recursive multi-step TSF [1–8], including HPO, backtesting, feature engineering, probabilistic forecasting, and ML interpretation modules in Python."
   ]
  },
  {
   "cell_type": "markdown",
   "id": "28b71d5b-9ad0-4a24-9cc7-d445ac05ea6d",
   "metadata": {},
   "source": [
    "**_LightGBM_** is a fast, distributed, high-performance gradient boosting framework that uses a tree-based ML algorithm. It also supports GPU learning and is thus widely used for data science business applications."
   ]
  },
  {
   "cell_type": "code",
   "execution_count": null,
   "id": "c7ef5c76-5a57-4af1-9da3-f959cad258c3",
   "metadata": {},
   "outputs": [],
   "source": [
    "import warnings\n",
    "warnings.filterwarnings('ignore')"
   ]
  },
  {
   "cell_type": "code",
   "execution_count": null,
   "id": "ded37296-e511-4377-9d58-d95dd86badcd",
   "metadata": {},
   "outputs": [],
   "source": [
    "import os\n",
    "os.environ['SKLEARN_ALLOW_DEPRECATED_SKLEARN_PACKAGE_INSTALL'] = 'True'"
   ]
  },
  {
   "cell_type": "code",
   "execution_count": null,
   "id": "29af71e3-9ffa-45e3-a06a-27d2f81a7f9b",
   "metadata": {},
   "outputs": [],
   "source": [
    "!pip install -q numpy pandas scikit-learn matplotlib seaborn statsmodels PyAstronomy\n",
    "!pip install -q skforecast plotly xgboost catboost lightgbm sklearn shap feature-engine"
   ]
  },
  {
   "cell_type": "code",
   "execution_count": null,
   "id": "913ea3c0-8753-4992-84c1-6b2ede4613f4",
   "metadata": {},
   "outputs": [],
   "source": [
    "# Data processing\n",
    "# ==============================================================================\n",
    "import numpy as np\n",
    "import pandas as pd\n",
    "from skforecast.datasets import fetch_dataset\n",
    "from feature_engine.datetime import DatetimeFeatures\n",
    "from feature_engine.creation import CyclicalFeatures\n",
    "from feature_engine.timeseries.forecasting import WindowFeatures\n",
    "\n",
    "# Plots\n",
    "# ==============================================================================\n",
    "import matplotlib.pyplot as plt\n",
    "\n",
    "from skforecast.plot import plot_residuals\n",
    "import plotly.graph_objects as go\n",
    "import plotly.io as pio\n",
    "import plotly.offline as poff\n",
    "pio.templates.default = \"seaborn\"\n",
    "plt.style.use('seaborn-v0_8-darkgrid')\n",
    "\n",
    "# Modelling and Forecasting\n",
    "# ==============================================================================\n",
    "import xgboost\n",
    "import lightgbm\n",
    "import catboost\n",
    "import sklearn\n",
    "import shap\n",
    "from xgboost import XGBRegressor\n",
    "from lightgbm import LGBMRegressor\n",
    "from catboost import CatBoostRegressor\n",
    "from sklearn.ensemble import HistGradientBoostingRegressor\n",
    "from sklearn.preprocessing import OneHotEncoder\n",
    "from sklearn.preprocessing import OrdinalEncoder\n",
    "from sklearn.preprocessing import FunctionTransformer\n",
    "from sklearn.preprocessing import PolynomialFeatures\n",
    "from sklearn.feature_selection import RFECV\n",
    "from sklearn.pipeline import make_pipeline\n",
    "from sklearn.compose import make_column_transformer\n",
    "from sklearn.compose import make_column_selector\n",
    "\n",
    "import skforecast\n",
    "from skforecast.recursive import ForecasterEquivalentDate\n",
    "from skforecast.recursive import ForecasterRecursive\n",
    "from skforecast.model_selection import TimeSeriesFold, OneStepAheadFold\n",
    "from skforecast.model_selection import bayesian_search_forecaster\n",
    "from skforecast.model_selection import backtesting_forecaster\n",
    "from skforecast.feature_selection import select_features\n",
    "from skforecast.preprocessing import RollingFeatures\n",
    "\n",
    "# Warnings configuration\n",
    "# ==============================================================================\n",
    "import warnings\n",
    "warnings.filterwarnings('once')\n",
    "\n",
    "color = '\\033[1m\\033[38;5;208m' \n",
    "print(f\"{color}Version skforecast: {skforecast.__version__}\")\n",
    "print(f\"{color}Version scikit-learn: {sklearn.__version__}\")\n",
    "print(f\"{color}Version lightgbm: {lightgbm.__version__}\")\n",
    "print(f\"{color}Version xgboost: {xgboost.__version__}\")\n",
    "print(f\"{color}Version catboost: {catboost.__version__}\")\n",
    "print(f\"{color}Version pandas: {pd.__version__}\")\n",
    "print(f\"{color}Version numpy: {np.__version__}\")"
   ]
  },
  {
   "cell_type": "code",
   "execution_count": null,
   "id": "631e5019-f361-45cc-b134-2f789870024b",
   "metadata": {},
   "outputs": [],
   "source": [
    "data = fetch_dataset(name='bike_sharing', raw=True)\n",
    "data.tail()"
   ]
  },
  {
   "cell_type": "code",
   "execution_count": null,
   "id": "84abc565-ac2b-49b9-bf7d-97d7a02f4e5c",
   "metadata": {},
   "outputs": [],
   "source": [
    "# Preprocessing data (setting index and frequency)\n",
    "# ==============================================================================\n",
    "data = data[['date_time', 'users', 'holiday', 'weather', 'temp', 'atemp', 'hum', 'windspeed']]\n",
    "data['date_time'] = pd.to_datetime(data['date_time'], format='%Y-%m-%d %H:%M:%S')\n",
    "data = data.set_index('date_time')\n",
    "data = data.asfreq('h')\n",
    "data = data.sort_index()\n",
    "data.head()"
   ]
  },
  {
   "cell_type": "code",
   "execution_count": null,
   "id": "f9a034cd-c16b-40d1-bd2a-0ae33b749a3d",
   "metadata": {},
   "outputs": [],
   "source": [
    "# Split train-validation-test\n",
    "# ==============================================================================\n",
    "end_train = '2012-03-30 23:59:00'\n",
    "end_validation = '2012-07-31 23:59:00'\n",
    "data_train = data.loc[: end_train, :]\n",
    "data_val   = data.loc[end_train:end_validation, :]\n",
    "data_test  = data.loc[end_validation:, :]\n",
    "\n",
    "print(f\"Dates train      : {data_train.index.min()} --- {data_train.index.max()}  (n={len(data_train)})\")\n",
    "print(f\"Dates validation : {data_val.index.min()} --- {data_val.index.max()}  (n={len(data_val)})\")\n",
    "print(f\"Dates test       : {data_test.index.min()} --- {data_test.index.max()}  (n={len(data_test)})\")"
   ]
  },
  {
   "cell_type": "code",
   "execution_count": null,
   "id": "f95c94eb-6290-47c2-9c34-4cc64068d9cd",
   "metadata": {},
   "outputs": [],
   "source": [
    "# Interactive plot of time series\n",
    "# ==============================================================================\n",
    "fig = go.Figure()\n",
    "fig.add_trace(go.Scatter(x=data_train.index, y=data_train['users'], mode='lines', name='Train'))\n",
    "fig.add_trace(go.Scatter(x=data_val.index, y=data_val['users'], mode='lines', name='Validation'))\n",
    "fig.add_trace(go.Scatter(x=data_test.index, y=data_test['users'], mode='lines', name='Test'))\n",
    "fig.update_layout(\n",
    "    title  = 'Number of users',\n",
    "    xaxis_title=\"Time\",\n",
    "    yaxis_title=\"Users\",\n",
    "    legend_title=\"Partition:\",\n",
    "    width=950,\n",
    "    height=350,\n",
    "    margin=dict(l=20, r=20, t=35, b=20),\n",
    "    legend=dict(orientation=\"h\", yanchor=\"top\", y=1, xanchor=\"left\", x=0.001)\n",
    ")"
   ]
  },
  {
   "cell_type": "code",
   "execution_count": null,
   "id": "9d3712cc-b215-4203-947b-2575f8575f4e",
   "metadata": {},
   "outputs": [],
   "source": [
    "# Create forecaster\n",
    "# ==============================================================================\n",
    "window_features = RollingFeatures(stats=[\"mean\"], window_sizes=24 * 3)\n",
    "forecaster = ForecasterRecursive(\n",
    "                regressor       = LGBMRegressor(random_state=123, verbose=-1),\n",
    "                lags            = 24,\n",
    "                window_features = window_features\n",
    "             )\n",
    "\n",
    "# Train forecaster\n",
    "# ==============================================================================\n",
    "forecaster.fit(y=data.loc[:end_validation, 'users'])\n",
    "forecaster"
   ]
  },
  {
   "cell_type": "code",
   "execution_count": null,
   "id": "78f45936-c693-41a2-8477-faf79d62c485",
   "metadata": {},
   "outputs": [],
   "source": [
    "# Predict\n",
    "# ==============================================================================\n",
    "forecaster.predict(steps=10)"
   ]
  },
  {
   "cell_type": "code",
   "execution_count": null,
   "id": "e2122060-e294-476d-865e-1b3145bab0fc",
   "metadata": {},
   "outputs": [],
   "source": [
    "# Backtest model on test data\n",
    "# ==============================================================================\n",
    "cv = TimeSeriesFold(\n",
    "        steps              = 36,\n",
    "        initial_train_size = len(data[:end_validation]),\n",
    "        refit              = False,\n",
    ")\n",
    "metric, predictions = backtesting_forecaster(\n",
    "                          forecaster    = forecaster,\n",
    "                          y             = data['users'],\n",
    "                          cv            = cv,\n",
    "                          metric        = 'mean_absolute_error',\n",
    "                          n_jobs        = 'auto',\n",
    "                          verbose       = False,  # Change to True to see more information\n",
    "                          show_progress = True\n",
    "                      )\n",
    "predictions.head()"
   ]
  },
  {
   "cell_type": "code",
   "execution_count": null,
   "id": "54a8bc81-ecf3-433d-8bc3-2ca2bddcac3f",
   "metadata": {},
   "outputs": [],
   "source": [
    "predictions.tail()"
   ]
  },
  {
   "cell_type": "code",
   "execution_count": null,
   "id": "34cdec67-7321-4192-b425-0b5703e9089c",
   "metadata": {},
   "outputs": [],
   "source": [
    "# Backtesting error\n",
    "# ==============================================================================\n",
    "metric"
   ]
  },
  {
   "cell_type": "code",
   "execution_count": null,
   "id": "f22b7244-b522-42f4-bb04-97b2a6018e68",
   "metadata": {},
   "outputs": [],
   "source": [
    "date_range = data_test['users'].loc['2012-08-01 00:00:00':'2012-12-31 23:00:00']\n",
    "\n",
    "fig, ax = plt.subplots(figsize=(12, 6))\n",
    "date_range.plot(ax=ax, label='Test')\n",
    "predictions.plot(ax=ax, label='Predictions', linestyle='-')\n",
    "ax.set_xlabel('Date')\n",
    "ax.set_ylabel('Users')\n",
    "ax.legend();"
   ]
  },
  {
   "cell_type": "code",
   "execution_count": null,
   "id": "1ee1adaa-42dd-4a1c-a83b-10f73bf2b7cc",
   "metadata": {},
   "outputs": [],
   "source": [
    "plt.scatter(date_range,predictions)\n",
    "plt.plot(date_range,date_range,c='r')\n",
    "plt.xlabel('Test')\n",
    "plt.ylabel('Prediction')"
   ]
  },
  {
   "cell_type": "code",
   "execution_count": null,
   "id": "d2fd9540-599b-4e94-b1f3-75ae9a8d1abf",
   "metadata": {},
   "outputs": [],
   "source": [
    "from sklearn.metrics import r2_score\n",
    "r2_score(date_range,predictions)"
   ]
  },
  {
   "cell_type": "code",
   "execution_count": null,
   "id": "1fd3ce88-b597-48cb-89df-3ed6cc968900",
   "metadata": {},
   "outputs": [],
   "source": [
    "from sklearn.metrics import mean_absolute_percentage_error\n",
    "mean_absolute_percentage_error(date_range,predictions)"
   ]
  },
  {
   "cell_type": "code",
   "execution_count": null,
   "id": "3c70f6c4-6944-4ae2-b3eb-7a023cfe8f08",
   "metadata": {},
   "outputs": [],
   "source": [
    "from sklearn.metrics import explained_variance_score\n",
    "explained_variance_score(date_range,predictions)"
   ]
  },
  {
   "cell_type": "code",
   "execution_count": null,
   "id": "d11eb21a-e5a9-4d38-b9a2-a999e5f7afed",
   "metadata": {},
   "outputs": [],
   "source": [
    "from sklearn.metrics import root_mean_squared_error\n",
    "root_mean_squared_error(date_range,predictions)"
   ]
  },
  {
   "cell_type": "markdown",
   "id": "357139de-04f6-472b-9ed7-b14855d84ee8",
   "metadata": {},
   "source": [
    "##### Baseline Hyperparameter Optimization with Backtesting"
   ]
  },
  {
   "cell_type": "code",
   "execution_count": null,
   "id": "427703e6-2d20-40b9-b48c-409bcc3937a9",
   "metadata": {},
   "outputs": [],
   "source": [
    "# Hyperparameters search\n",
    "# ==============================================================================\n",
    "# Lags grid\n",
    "lags_grid = [36,48, 72, [1, 3, 6, 23, 24, 25, 167, 168, 169]]\n",
    "\n",
    "# Regressor hyperparameters search space\n",
    "def search_space(trial):\n",
    "    search_space  = {\n",
    "        'n_estimators'    : trial.suggest_int('n_estimators', 400, 1200, step=100),\n",
    "        'max_depth'       : trial.suggest_int('max_depth', 3, 10, step=1),\n",
    "        'min_data_in_leaf': trial.suggest_int('min_data_in_leaf', 25, 500),\n",
    "        'learning_rate'   : trial.suggest_float('learning_rate', 0.01, 0.5),\n",
    "        'feature_fraction': trial.suggest_float('feature_fraction', 0.5, 1, step=0.1),\n",
    "        'max_bin'         : trial.suggest_int('max_bin', 50, 250, step=25),\n",
    "        'reg_alpha'       : trial.suggest_float('reg_alpha', 0, 1, step=0.1),\n",
    "        'reg_lambda'      : trial.suggest_float('reg_lambda', 0, 1, step=0.1),\n",
    "        'lags'            : trial.suggest_categorical('lags', lags_grid)\n",
    "    } \n",
    "    return search_space\n",
    "\n",
    "# Folds training and validation\n",
    "cv = TimeSeriesFold(\n",
    "        steps              = 6,\n",
    "        initial_train_size = len(data_train),\n",
    "        refit              = False,\n",
    "    )\n",
    "\n",
    "results_search, frozen_trial = bayesian_search_forecaster(\n",
    "    forecaster    = forecaster,\n",
    "    y             = data.loc[:end_validation, 'users'], # Test data not used\n",
    "    cv            = cv,\n",
    "    search_space  = search_space,\n",
    "    metric        = 'mean_absolute_error',\n",
    "    n_trials      = 20, # Increase this value for a more exhaustive search\n",
    "    random_state  = 123,\n",
    "    return_best   = True,\n",
    "    n_jobs        = 'auto',\n",
    "    verbose       = False,\n",
    "    show_progress = True\n",
    ")"
   ]
  },
  {
   "cell_type": "code",
   "execution_count": null,
   "id": "62b24cd8-3cd9-47e7-a64d-35a7cfdfaa0a",
   "metadata": {},
   "outputs": [],
   "source": [
    "n_trials = 20\n",
    "results_search.info()"
   ]
  },
  {
   "cell_type": "code",
   "execution_count": null,
   "id": "4cc7e658-1382-47d4-bef3-b4bf1e5867c5",
   "metadata": {},
   "outputs": [],
   "source": [
    "x = np.linspace(0, n_trials-1, n_trials)\n",
    "plt.plot(x,results_search['learning_rate'])\n",
    "plt.xticks(np.arange(0, 19, step=1))\n",
    "plt.title('Learning Rate')\n",
    "plt.xlabel('Trial No')"
   ]
  },
  {
   "cell_type": "code",
   "execution_count": null,
   "id": "a72edfb6-c52e-4b17-92ac-a7aee0ade5b7",
   "metadata": {},
   "outputs": [],
   "source": [
    "x = np.linspace(0, n_trials-1, n_trials)\n",
    "plt.plot(x,results_search['n_estimators'])\n",
    "plt.xticks(np.arange(0, 19, step=1))\n",
    "plt.title('N Estimators')\n",
    "plt.xlabel('Trial No')"
   ]
  },
  {
   "cell_type": "code",
   "execution_count": null,
   "id": "284868a7-22d2-494a-9355-445847b1789c",
   "metadata": {},
   "outputs": [],
   "source": [
    "x = np.linspace(0, n_trials-1, n_trials)\n",
    "plt.plot(x,results_search['max_depth'])\n",
    "plt.xticks(np.arange(0, 19, step=1))\n",
    "plt.title('Max Depth')\n",
    "plt.xlabel('Trial No')"
   ]
  },
  {
   "cell_type": "code",
   "execution_count": null,
   "id": "209c9481-1b2a-4e95-bf67-dfd09d644feb",
   "metadata": {},
   "outputs": [],
   "source": [
    "x = np.linspace(0, n_trials-1, n_trials)\n",
    "plt.plot(x,results_search['reg_lambda'])\n",
    "plt.xticks(np.arange(0, 19, step=1))\n",
    "plt.title('Reg Lambda')\n",
    "plt.xlabel('Trial No')"
   ]
  },
  {
   "cell_type": "code",
   "execution_count": null,
   "id": "dfbedbc6-4ab6-48ee-9d0a-102548b56765",
   "metadata": {},
   "outputs": [],
   "source": [
    "x = np.linspace(0, n_trials-1, n_trials)\n",
    "plt.plot(x,results_search['reg_alpha'])\n",
    "plt.xticks(np.arange(0, 19, step=1))\n",
    "plt.title('Reg Alpha')\n",
    "plt.xlabel('Trial No')"
   ]
  },
  {
   "cell_type": "code",
   "execution_count": null,
   "id": "d12e67f6-4439-4903-87b3-e421b0828f62",
   "metadata": {},
   "outputs": [],
   "source": [
    "# Best model\n",
    "# ==============================================================================\n",
    "forecaster"
   ]
  },
  {
   "cell_type": "code",
   "execution_count": null,
   "id": "aae66672-53d0-462c-aa13-31e8ba18fd63",
   "metadata": {},
   "outputs": [],
   "source": [
    "# Backtest final model on test data\n",
    "# ==============================================================================\n",
    "cv = TimeSeriesFold(\n",
    "        steps              = 6,\n",
    "        initial_train_size = len(data[:end_validation]),\n",
    "        refit              = False,\n",
    "     )\n",
    "metric, predictions = backtesting_forecaster(\n",
    "                          forecaster    = forecaster,\n",
    "                          y             = data['users'],\n",
    "                          cv            = cv,\n",
    "                          metric        = 'mean_absolute_error',\n",
    "                          n_jobs        = 'auto',\n",
    "                          verbose       = False,\n",
    "                          show_progress = True\n",
    "                      )\n",
    "display(metric)"
   ]
  },
  {
   "cell_type": "code",
   "execution_count": null,
   "id": "7196ef82-1df6-4215-9779-1dced2fb5216",
   "metadata": {},
   "outputs": [],
   "source": [
    "predictions.head()"
   ]
  },
  {
   "cell_type": "code",
   "execution_count": null,
   "id": "98b739e8-b6b5-449d-acb5-908afa1456ff",
   "metadata": {},
   "outputs": [],
   "source": [
    "# Plot predictions vs real value\n",
    "# ======================================================================================\n",
    "fig = go.Figure()\n",
    "trace1 = go.Scatter(x=data_test.index, y=data_test['users'], name=\"test\", mode=\"lines\")\n",
    "trace2 = go.Scatter(x=predictions.index, y=predictions['pred'], name=\"prediction\", mode=\"lines\")\n",
    "fig.add_trace(trace1)\n",
    "fig.add_trace(trace2)\n",
    "fig.update_layout(\n",
    "    title=\"Real value vs predicted in test data\",\n",
    "    xaxis_title=\"Date time\",\n",
    "    yaxis_title=\"Users\",\n",
    "    width=950,\n",
    "    height=350,\n",
    "    margin=dict(l=20, r=20, t=35, b=20),\n",
    "    legend=dict(orientation=\"h\", yanchor=\"top\", y=1.1, xanchor=\"left\", x=0.001)\n",
    ")\n",
    "fig.show()"
   ]
  },
  {
   "cell_type": "code",
   "execution_count": null,
   "id": "f97f9e74-d132-498a-8b0e-c3c996db3516",
   "metadata": {},
   "outputs": [],
   "source": [
    "plt.scatter(date_range,predictions)\n",
    "plt.plot(date_range,date_range,c='r')\n",
    "plt.xlabel('Test')\n",
    "plt.ylabel('Prediction')"
   ]
  },
  {
   "cell_type": "code",
   "execution_count": null,
   "id": "999ee46b-6626-48a8-bb9d-377f849600a5",
   "metadata": {},
   "outputs": [],
   "source": [
    "r2_score(date_range,predictions)"
   ]
  },
  {
   "cell_type": "code",
   "execution_count": null,
   "id": "066847c3-1f40-496a-b90b-c7a1bc2261e0",
   "metadata": {},
   "outputs": [],
   "source": [
    "mean_absolute_percentage_error(date_range,predictions)"
   ]
  },
  {
   "cell_type": "code",
   "execution_count": null,
   "id": "90a7a2d0-5e1c-411d-a8a2-f94c6ff79d6d",
   "metadata": {},
   "outputs": [],
   "source": [
    "explained_variance_score(date_range,predictions)"
   ]
  },
  {
   "cell_type": "code",
   "execution_count": null,
   "id": "be94a10a-d18d-49bf-8567-5a0dda99370d",
   "metadata": {},
   "outputs": [],
   "source": [
    "root_mean_squared_error(date_range,predictions)"
   ]
  },
  {
   "cell_type": "markdown",
   "id": "d9f3cbd2-bff1-4b7d-8560-a8426a28d900",
   "metadata": {},
   "source": [
    "##### Training LGBMRegressor with Exogeneous Variables"
   ]
  },
  {
   "cell_type": "code",
   "execution_count": null,
   "id": "f9c51c23-ff58-47a7-bbf1-433884e47361",
   "metadata": {},
   "outputs": [],
   "source": [
    "# Calendar features\n",
    "# ==============================================================================\n",
    "features_to_extract = [\n",
    "    'month',\n",
    "    'week',\n",
    "    'day_of_week',\n",
    "    'hour'\n",
    "]\n",
    "calendar_transformer = DatetimeFeatures(\n",
    "    variables='index',\n",
    "    features_to_extract=features_to_extract,\n",
    "    drop_original=True,\n",
    ")\n",
    "calendar_features = calendar_transformer.fit_transform(data)[features_to_extract]"
   ]
  },
  {
   "cell_type": "code",
   "execution_count": null,
   "id": "90a05540-6f67-46b0-aa50-231a88257da1",
   "metadata": {},
   "outputs": [],
   "source": [
    "# Sunlight features\n",
    "# ==============================================================================\n",
    "from astronomy import LocationInfo, sun\n",
    "location = LocationInfo(\n",
    "    name      = 'Washington DC',\n",
    "    region    = 'USA',\n",
    "    timezone  = 'US/Eastern',\n",
    "    latitude  = 40.516666666666666,\n",
    "    longitude = -77.03333333333333\n",
    ")\n",
    "sunrise_hour = [\n",
    "    sun(location.observer, date=date, tzinfo=location.timezone)['sunrise'].hour\n",
    "    for date in data.index\n",
    "]\n",
    "sunset_hour = [\n",
    "    sun(location.observer, date=date, tzinfo=location.timezone)['sunset'].hour\n",
    "    for date in data.index\n",
    "]\n",
    "sun_light_features = pd.DataFrame({\n",
    "                        'sunrise_hour': sunrise_hour,\n",
    "                        'sunset_hour': sunset_hour}, \n",
    "                        index = data.index\n",
    "                     )\n",
    "sun_light_features['daylight_hours'] = (\n",
    "    sun_light_features['sunset_hour'] - sun_light_features['sunrise_hour']\n",
    ")\n",
    "sun_light_features[\"is_daylight\"] = np.where(\n",
    "    (data.index.hour >= sun_light_features[\"sunrise_hour\"])\n",
    "    & (data.index.hour < sun_light_features[\"sunset_hour\"]),\n",
    "    1,\n",
    "    0,\n",
    ")"
   ]
  },
  {
   "cell_type": "code",
   "execution_count": null,
   "id": "4cda6921-11fe-4fd8-9882-9a87cdfe156b",
   "metadata": {},
   "outputs": [],
   "source": [
    "# Holiday features\n",
    "# ==============================================================================\n",
    "holiday_features = data[['holiday']].astype(int)\n",
    "holiday_features['holiday_previous_day'] = holiday_features['holiday'].shift(24)\n",
    "holiday_features['holiday_next_day'] = holiday_features['holiday'].shift(-24)"
   ]
  },
  {
   "cell_type": "code",
   "execution_count": null,
   "id": "b6a8269f-cbe0-4ede-a36c-81fb2b938be9",
   "metadata": {},
   "outputs": [],
   "source": [
    "# Rolling windows of temperature\n",
    "# ==============================================================================\n",
    "wf_transformer = WindowFeatures(\n",
    "    variables   = [\"temp\"],\n",
    "    window      = [\"1D\", \"7D\"],\n",
    "    functions   = [\"mean\", \"max\", \"min\"],\n",
    "    freq        = \"h\",\n",
    ")\n",
    "temp_features = wf_transformer.fit_transform(data[['temp']])"
   ]
  },
  {
   "cell_type": "code",
   "execution_count": null,
   "id": "9d6b51d1-2d4b-44df-beb3-a50ae5e4b2e4",
   "metadata": {},
   "outputs": [],
   "source": [
    "# Merge all exogenous variables\n",
    "# ==============================================================================\n",
    "assert all(calendar_features.index == sun_light_features.index)\n",
    "assert all(calendar_features.index == temp_features.index)\n",
    "assert all(calendar_features.index == holiday_features.index)\n",
    "df_exogenous_features = pd.concat([\n",
    "    calendar_features,\n",
    "    sun_light_features,\n",
    "    temp_features,\n",
    "    holiday_features\n",
    "], axis=1)\n",
    "\n",
    "# Due to the creation of moving averages, there are missing values at the beginning\n",
    "# of the series. And due to holiday_next_day there are missing values at the end.\n",
    "df_exogenous_features = df_exogenous_features.iloc[7 * 24:, :]\n",
    "df_exogenous_features = df_exogenous_features.iloc[:-24, :]\n",
    "df_exogenous_features.head(5)"
   ]
  },
  {
   "cell_type": "code",
   "execution_count": null,
   "id": "5cbd19b4-c990-4655-b6aa-ef44d414909c",
   "metadata": {},
   "outputs": [],
   "source": [
    "df_exogenous_features.info()"
   ]
  },
  {
   "cell_type": "code",
   "execution_count": null,
   "id": "76fdc9ef-6281-4f22-88d3-af1903fdf935",
   "metadata": {},
   "outputs": [],
   "source": [
    "features_to_encode = [\n",
    "    \"month\",\n",
    "    \"week\",\n",
    "    \"day_of_week\",\n",
    "    \"hour\",\n",
    "    \"sunrise_hour\",\n",
    "    \"sunset_hour\",\n",
    "]\n",
    "max_values = {\n",
    "    \"month\": 12,\n",
    "    \"week\": 52,\n",
    "    \"day_of_week\": 6,\n",
    "    \"hour\": 23,\n",
    "    \"sunrise_hour\": 23,\n",
    "    \"sunset_hour\": 23,\n",
    "}\n",
    "cyclical_encoder = CyclicalFeatures(\n",
    "    variables     = features_to_encode,\n",
    "    max_values    = max_values,\n",
    "    drop_original = False\n",
    ")\n",
    "\n",
    "df_exogenous_features = cyclical_encoder.fit_transform(df_exogenous_features)\n",
    "#df_exogenous_features.tail(3)"
   ]
  },
  {
   "cell_type": "code",
   "execution_count": null,
   "id": "fc1b3810-a228-4ef8-8d84-d5180314a123",
   "metadata": {},
   "outputs": [],
   "source": [
    "transformer_poly = PolynomialFeatures(\n",
    "                        degree           = 2,\n",
    "                        interaction_only = True,\n",
    "                        include_bias     = False\n",
    "                    ).set_output(transform=\"pandas\")\n",
    "poly_cols = [\n",
    "    'month_sin', \n",
    "    'month_cos',\n",
    "    'week_sin',\n",
    "    'week_cos',\n",
    "    'day_of_week_sin',\n",
    "    'day_of_week_cos',\n",
    "    'hour_sin',\n",
    "    'hour_cos',\n",
    "    'sunrise_hour_sin',\n",
    "    'sunrise_hour_cos',\n",
    "    'sunset_hour_sin',\n",
    "    'sunset_hour_cos',\n",
    "    'daylight_hours',\n",
    "    'is_daylight',\n",
    "    'holiday_previous_day',\n",
    "    'holiday_next_day',\n",
    "    'temp_window_1D_mean',\n",
    "    'temp_window_1D_min',\n",
    "    'temp_window_1D_max',\n",
    "    'temp_window_7D_mean',\n",
    "    'temp_window_7D_min',\n",
    "    'temp_window_7D_max',\n",
    "    'temp',\n",
    "    'holiday'\n",
    "]\n",
    "poly_features = transformer_poly.fit_transform(df_exogenous_features[poly_cols])\n",
    "poly_features = poly_features.drop(columns=poly_cols)\n",
    "poly_features.columns = [f\"poly_{col}\" for col in poly_features.columns]\n",
    "poly_features.columns = poly_features.columns.str.replace(\" \", \"__\")\n",
    "assert all(poly_features.index == df_exogenous_features.index)\n",
    "df_exogenous_features = pd.concat([df_exogenous_features, poly_features], axis=1)\n",
    "df_exogenous_features.head(3)"
   ]
  },
  {
   "cell_type": "code",
   "execution_count": null,
   "id": "7d649002-d2f2-40b0-be40-60f17426e9aa",
   "metadata": {},
   "outputs": [],
   "source": [
    "data[\"weather\"] = data[\"weather\"].astype(\"category\")"
   ]
  },
  {
   "cell_type": "code",
   "execution_count": null,
   "id": "7022056f-02b9-44da-96b2-a604d07dfb76",
   "metadata": {},
   "outputs": [],
   "source": [
    "one_hot_encoder = make_column_transformer(\n",
    "    (\n",
    "        OneHotEncoder(sparse_output=False, drop='if_binary'),\n",
    "        make_column_selector(dtype_include=['category', 'object']),\n",
    "    ),\n",
    "    remainder=\"passthrough\",\n",
    "    verbose_feature_names_out=False,\n",
    ").set_output(transform=\"pandas\")  "
   ]
  },
  {
   "cell_type": "code",
   "execution_count": null,
   "id": "493acf91-f8e0-4090-988c-afcd75d49435",
   "metadata": {},
   "outputs": [],
   "source": [
    "forecaster = ForecasterRecursive(\n",
    "                regressor        = LGBMRegressor(random_state=123, verbose=-1),\n",
    "                lags             = 72,\n",
    "                window_features  = window_features,\n",
    "                transformer_exog = one_hot_encoder\n",
    "             )"
   ]
  },
  {
   "cell_type": "code",
   "execution_count": null,
   "id": "399148ab-fd9c-426a-bebd-22914cd0461d",
   "metadata": {},
   "outputs": [],
   "source": [
    "exog_features = ['weather']         \n",
    "X_train, y_train = forecaster.create_train_X_y(\n",
    "                        y    = data.loc[:end_validation, 'users'],\n",
    "                        exog = data.loc[:end_validation, exog_features]\n",
    "                   )"
   ]
  },
  {
   "cell_type": "code",
   "execution_count": null,
   "id": "e65a03a8-7803-48ad-b9aa-2ff43b88a0e6",
   "metadata": {},
   "outputs": [],
   "source": [
    "X_train.head(3)"
   ]
  },
  {
   "cell_type": "code",
   "execution_count": null,
   "id": "0889e9f6-3a7b-4d05-b391-1316a4ec325c",
   "metadata": {},
   "outputs": [],
   "source": [
    "X_train.shape"
   ]
  },
  {
   "cell_type": "code",
   "execution_count": null,
   "id": "1ba8f092-878a-4658-948b-7dcf6bc74067",
   "metadata": {},
   "outputs": [],
   "source": [
    "X_train.info()"
   ]
  },
  {
   "cell_type": "code",
   "execution_count": null,
   "id": "ee614576-b01d-4999-a05b-c3e9e5227c51",
   "metadata": {},
   "outputs": [],
   "source": [
    "pipeline_categorical = make_pipeline(\n",
    "    OrdinalEncoder(\n",
    "        dtype=int,\n",
    "        handle_unknown=\"use_encoded_value\",\n",
    "        unknown_value=-1,\n",
    "        encoded_missing_value=-1\n",
    "    ),\n",
    "    FunctionTransformer(\n",
    "        func=lambda x: x.astype('category'),\n",
    "        feature_names_out= 'one-to-one'\n",
    "    )\n",
    ")"
   ]
  },
  {
   "cell_type": "code",
   "execution_count": null,
   "id": "13908ec8-3c21-45cc-9957-f1fe9dff8b88",
   "metadata": {},
   "outputs": [],
   "source": [
    "transformer_exog = make_column_transformer(\n",
    "    (\n",
    "        pipeline_categorical,\n",
    "        make_column_selector(dtype_include=['category', 'object']),\n",
    "    ),\n",
    "    remainder=\"passthrough\",\n",
    "    verbose_feature_names_out=False,\n",
    ").set_output(transform=\"pandas\")"
   ]
  },
  {
   "cell_type": "code",
   "execution_count": null,
   "id": "d6573bba-3f2f-465e-8229-8f31f96f4ca3",
   "metadata": {},
   "outputs": [],
   "source": [
    "forecaster = ForecasterRecursive(\n",
    "                regressor        = LGBMRegressor(random_state=123, verbose=-1),\n",
    "                lags             = 72,\n",
    "                window_features  = window_features,\n",
    "                transformer_exog = transformer_exog,\n",
    "                fit_kwargs       = {\"categorical_feature\": \"auto\"}\n",
    "             )"
   ]
  },
  {
   "cell_type": "code",
   "execution_count": null,
   "id": "269c2078-3374-45aa-bd2c-2b2b9e65db74",
   "metadata": {},
   "outputs": [],
   "source": [
    "exog_features = []\n",
    "# Columns that ends with _sin or _cos are selected\n",
    "exog_features.extend(df_exogenous_features.filter(regex='_sin$|_cos$').columns.tolist())\n",
    "# columns that start with temp_ are selected\n",
    "exog_features.extend(df_exogenous_features.filter(regex='^temp_.*').columns.tolist())\n",
    "# Columns that start with holiday_ are selected\n",
    "exog_features.extend(df_exogenous_features.filter(regex='^holiday_.*').columns.tolist())\n",
    "exog_features.extend(['temp', 'holiday', 'weather'])\n",
    "\n",
    "df_exogenous_features = df_exogenous_features.filter(exog_features, axis=1)\n",
    "# Merge target and exogenous variables in the same dataframe\n",
    "# ==============================================================================\n",
    "data = data[['users', 'weather']].merge(\n",
    "            df_exogenous_features,\n",
    "            left_index=True,\n",
    "            right_index=True,\n",
    "            how='inner' # To use only dates for which we have all the variables\n",
    "        )\n",
    "data = data.astype({col: np.float32 for col in data.select_dtypes(\"number\").columns})\n",
    "data_train = data.loc[: end_train, :].copy()\n",
    "data_val   = data.loc[end_train:end_validation, :].copy()\n",
    "data_test  = data.loc[end_validation:, :].copy()"
   ]
  },
  {
   "cell_type": "code",
   "execution_count": null,
   "id": "689cc758-76fa-40d5-80ce-b92cab86b1a8",
   "metadata": {},
   "outputs": [],
   "source": [
    "forecaster = ForecasterRecursive(\n",
    "                regressor        = LGBMRegressor(random_state=123, verbose=-1),\n",
    "                lags             = 72,\n",
    "                window_features  = window_features,\n",
    "                transformer_exog = transformer_exog,\n",
    "                fit_kwargs       = {\"categorical_feature\": \"auto\"}\n",
    "             )\n",
    "\n",
    "# Lags grid\n",
    "lags_grid = [36,48, 72, [1, 3, 6, 23, 24, 25, 167, 168, 169]]\n",
    "\n",
    "# Regressor hyperparameters search space\n",
    "def search_space(trial):\n",
    "    search_space  = {\n",
    "        'n_estimators'    : trial.suggest_int('n_estimators', 400, 1200, step=100),\n",
    "        'max_depth'       : trial.suggest_int('max_depth', 3, 10, step=1),\n",
    "        'min_data_in_leaf': trial.suggest_int('min_data_in_leaf', 25, 500),\n",
    "        'learning_rate'   : trial.suggest_float('learning_rate', 0.01, 0.5),\n",
    "        'feature_fraction': trial.suggest_float('feature_fraction', 0.5, 1, step=0.1),\n",
    "        'max_bin'         : trial.suggest_int('max_bin', 50, 250, step=25),\n",
    "        'reg_alpha'       : trial.suggest_float('reg_alpha', 0, 1, step=0.1),\n",
    "        'reg_lambda'      : trial.suggest_float('reg_lambda', 0, 1, step=0.1),\n",
    "        'lags'            : trial.suggest_categorical('lags', lags_grid)\n",
    "    } \n",
    "    return search_space\n",
    "\n",
    "# Folds\n",
    "cv = TimeSeriesFold(\n",
    "        steps              = 6,\n",
    "        initial_train_size = len(data_train),\n",
    "        refit              = False\n",
    "     )\n",
    "\n",
    "results_search, frozen_trial = bayesian_search_forecaster(\n",
    "    forecaster    = forecaster,\n",
    "    y             = data.loc[:end_validation, 'users'],\n",
    "    exog          = data.loc[:end_validation, exog_features],\n",
    "    cv            = cv,\n",
    "    search_space  = search_space,\n",
    "    metric        = 'mean_absolute_error',\n",
    "    n_trials      = 20,\n",
    "    random_state  = 123,\n",
    "    return_best   = True,\n",
    "    n_jobs        = 'auto',\n",
    "    verbose       = False,\n",
    "    show_progress = True\n",
    ")\n",
    "best_params = results_search['params'].iat[0]\n",
    "best_params = best_params | {'random_state': 123, 'verbose': -1}"
   ]
  },
  {
   "cell_type": "code",
   "execution_count": null,
   "id": "076766d1-8d22-4643-a0c7-3a6e258adffe",
   "metadata": {},
   "outputs": [],
   "source": [
    "cv = TimeSeriesFold(\n",
    "        steps              = 6,\n",
    "        initial_train_size = len(data[:end_validation]),\n",
    "        refit              = False,\n",
    "     )\n",
    "\n",
    "metric, predictions = backtesting_forecaster(\n",
    "                        forecaster    = forecaster,\n",
    "                        y             = data['users'],\n",
    "                        exog          = data[exog_features],\n",
    "                        cv            = cv,\n",
    "                        metric        = 'mean_absolute_error',\n",
    "                        n_jobs        = 'auto',\n",
    "                        verbose       = False,\n",
    "                        show_progress = True\n",
    "                     )\n",
    "metric"
   ]
  },
  {
   "cell_type": "code",
   "execution_count": null,
   "id": "c00cbbb0-0bd1-43c3-b999-6cf85755dd49",
   "metadata": {},
   "outputs": [],
   "source": [
    "# Plot predictions vs real value\n",
    "# ======================================================================================\n",
    "fig = go.Figure()\n",
    "trace1 = go.Scatter(x=data_test.index, y=data_test['users'], name=\"test\", mode=\"lines\")\n",
    "trace2 = go.Scatter(x=predictions.index, y=predictions['pred'], name=\"prediction\", mode=\"lines\")\n",
    "fig.add_trace(trace1)\n",
    "fig.add_trace(trace2)\n",
    "fig.update_layout(\n",
    "    title=\"Real value vs predicted in test data\",\n",
    "    xaxis_title=\"Date time\",\n",
    "    yaxis_title=\"Users\",\n",
    "    width=950,\n",
    "    height=350,\n",
    "    margin=dict(l=20, r=20, t=35, b=20),\n",
    "    legend=dict(orientation=\"h\", yanchor=\"top\", y=1.1, xanchor=\"left\", x=0.001)\n",
    ")\n",
    "fig.show()"
   ]
  },
  {
   "cell_type": "code",
   "execution_count": null,
   "id": "6bf43763-18f0-4ef7-a003-127d07b03694",
   "metadata": {},
   "outputs": [],
   "source": [
    "plt.scatter(data_test['users'],predictions['pred'])\n",
    "plt.plot(data_test['users'],data_test['users'],c='r')\n",
    "plt.xlabel('Test')\n",
    "plt.ylabel('Prediction')"
   ]
  },
  {
   "cell_type": "code",
   "execution_count": null,
   "id": "cfc2245f-8bfc-4e42-863f-f6ab2aef17ad",
   "metadata": {},
   "outputs": [],
   "source": [
    "r2_score(data_test['users'],predictions['pred'])"
   ]
  },
  {
   "cell_type": "code",
   "execution_count": null,
   "id": "3f432321-6e6b-4653-9277-c3eec94b2e5a",
   "metadata": {},
   "outputs": [],
   "source": [
    "mean_absolute_percentage_error(data_test['users'],predictions['pred'])"
   ]
  },
  {
   "cell_type": "code",
   "execution_count": null,
   "id": "cdcd9141-a8a1-46fa-b533-e945126a77b5",
   "metadata": {},
   "outputs": [],
   "source": [
    "explained_variance_score(data_test['users'],predictions['pred'])"
   ]
  },
  {
   "cell_type": "code",
   "execution_count": null,
   "id": "d295342e-5bb9-481f-b09b-ec05a89558b3",
   "metadata": {},
   "outputs": [],
   "source": [
    "root_mean_squared_error(data_test['users'],predictions['pred'])"
   ]
  },
  {
   "cell_type": "markdown",
   "id": "844e6763-5b7f-4003-ba58-905961cf1706",
   "metadata": {},
   "source": [
    "##### Out-of-Sample Predictions with 90% Confidence Interval"
   ]
  },
  {
   "cell_type": "code",
   "execution_count": null,
   "id": "5577f285-4eb0-4ece-bd3f-8b57e832812b",
   "metadata": {},
   "outputs": [],
   "source": [
    "# Create forecaster\n",
    "\n",
    "regressor = LGBMRegressor(\n",
    "   n_estimators=600, \n",
    "    max_depth=4, \n",
    "    min_data_in_leaf=27,\n",
    "    learning_rate=0.09924212335795864, \n",
    "    feature_fraction=0.7, \n",
    "    max_bin=225, \n",
    "    reg_alpha=0.5, \n",
    "    reg_lambda=0.2,\n",
    "    random_state = 123,\n",
    "    verbose      = -1\n",
    ")\n",
    "forecaster = ForecasterRecursive(\n",
    "    regressor        = regressor,\n",
    "    lags             = [36,48, 72, 1, 3, 6, 23, 24, 25, 167, 168, 169],\n",
    "    window_features  = window_features,\n",
    "    transformer_exog = transformer_exog,\n",
    "    fit_kwargs       = {\"categorical_feature\": \"auto\"}\n",
    ")\n",
    "\n",
    "# Recursive feature elimination with cross-validation\n",
    "# ==============================================================================\n",
    "selector = RFECV(\n",
    "    estimator = regressor,\n",
    "    step      = 1,\n",
    "    cv        = 3,\n",
    "    n_jobs    = -1\n",
    ")\n",
    "selected_lags, selected_window_features, selected_exog = select_features(\n",
    "    forecaster      = forecaster,\n",
    "    selector        = selector,\n",
    "    y               = data_train['users'],  \n",
    "    exog            = data_train[exog_features],\n",
    "    select_only     = None,\n",
    "    force_inclusion = None,\n",
    "    subsample       = 0.5,\n",
    "    random_state    = 123,\n",
    "    verbose         = True,\n",
    ")"
   ]
  },
  {
   "cell_type": "code",
   "execution_count": null,
   "id": "a1c730c8-bd4e-416c-8256-adc0e6ec78d7",
   "metadata": {},
   "outputs": [],
   "source": [
    "forecaster = ForecasterRecursive(\n",
    "    regressor        = LGBMRegressor(**best_params),\n",
    "    lags             = selected_lags,\n",
    "    window_features  = window_features,\n",
    "    transformer_exog = transformer_exog,\n",
    "    fit_kwargs       = {\"categorical_feature\": \"auto\"}\n",
    ")"
   ]
  },
  {
   "cell_type": "code",
   "execution_count": null,
   "id": "135ece2a-b038-4dbc-ae5f-2bbde44ebc20",
   "metadata": {},
   "outputs": [],
   "source": [
    "cv = TimeSeriesFold(\n",
    "        steps              = 6,\n",
    "        initial_train_size = len(data[:end_validation]),\n",
    "        refit              = False,\n",
    ")\n",
    "metric_lgbm, predictions = backtesting_forecaster(\n",
    "    forecaster    = forecaster,\n",
    "    y             = data['users'],\n",
    "    exog          = data[selected_exog],\n",
    "    cv            = cv,\n",
    "    metric        = 'mean_absolute_error',\n",
    "    n_jobs        = 'auto',\n",
    "    verbose       = False,\n",
    "    show_progress = True\n",
    ")\n",
    "metric_lgbm"
   ]
  },
  {
   "cell_type": "code",
   "execution_count": null,
   "id": "f03c66d3-6491-43d9-b330-8881b0eaaac2",
   "metadata": {},
   "outputs": [],
   "source": [
    "exog_features = selected_exog"
   ]
  },
  {
   "cell_type": "code",
   "execution_count": null,
   "id": "8efe65ad-1486-416d-9d6b-647478aaeee4",
   "metadata": {},
   "outputs": [],
   "source": [
    "forecaster = ForecasterRecursive(\n",
    "    regressor        = LGBMRegressor(**best_params),\n",
    "    lags             = 72,\n",
    "    window_features  = window_features,\n",
    "    transformer_exog = transformer_exog,\n",
    "    fit_kwargs       = {\"categorical_feature\": \"auto\"},\n",
    "    binner_kwargs    = {\"n_bins\": 20}\n",
    ")\n",
    "forecaster.fit(\n",
    "    y    = data.loc[:end_train, 'users'],\n",
    "    exog = data.loc[:end_train, exog_features]\n",
    ")\n",
    "# Predict intervals\n",
    "# ==============================================================================\n",
    "# Since the model has been trained with exogenous variables, they must be provided\n",
    "# for the prediction.\n",
    "predictions = forecaster.predict_interval(\n",
    "    exog     = data.loc[end_train:, exog_features],\n",
    "    steps    = 6,\n",
    "    interval = [5, 95], \n",
    ")\n",
    "predictions.head()"
   ]
  },
  {
   "cell_type": "code",
   "execution_count": null,
   "id": "06d5bf10-5345-4434-a958-851be98a01e0",
   "metadata": {},
   "outputs": [],
   "source": [
    "cv = TimeSeriesFold(\n",
    "        steps              = 6,\n",
    "        initial_train_size = len(data.loc[:end_train]),\n",
    "        refit              = False,\n",
    ")\n",
    "_, predictions_val = backtesting_forecaster(\n",
    "    forecaster    = forecaster,\n",
    "    y             = data.loc[:end_validation, 'users'],\n",
    "    exog          = data.loc[:end_validation, exog_features],\n",
    "    cv            = cv,\n",
    "    metric        = 'mean_absolute_error',\n",
    "    n_jobs        = 'auto',\n",
    "    verbose       = False,\n",
    "    show_progress = True\n",
    ")"
   ]
  },
  {
   "cell_type": "code",
   "execution_count": null,
   "id": "21517f28-0cfb-4996-99a2-b00b157e15a5",
   "metadata": {},
   "outputs": [],
   "source": [
    "residuals = data.loc[predictions_val.index, 'users'] - predictions_val['pred']\n",
    "print(pd.Series(np.where(residuals < 0, 'negative', 'positive')).value_counts())\n",
    "plt.rcParams.update({'font.size': 8})\n",
    "_ = plot_residuals(\n",
    "        y_true = data.loc[predictions_val.index, 'users'],\n",
    "        y_pred = predictions_val['pred'],\n",
    "        figsize=(7, 4)\n",
    "    )"
   ]
  },
  {
   "cell_type": "code",
   "execution_count": null,
   "id": "4b4d05ba-6ffa-465b-bcb1-fd670687d6b5",
   "metadata": {},
   "outputs": [],
   "source": [
    "forecaster.set_out_sample_residuals(\n",
    "    y_true = data.loc[predictions_val.index, 'users'],\n",
    "    y_pred = predictions_val['pred']\n",
    ")"
   ]
  },
  {
   "cell_type": "code",
   "execution_count": null,
   "id": "eb56c50d-9efd-4db7-aed4-dfab96e6410a",
   "metadata": {},
   "outputs": [],
   "source": [
    "end_test = '2012-12-30 23:00:00'\n",
    "cv = TimeSeriesFold(\n",
    "        steps              = 6,\n",
    "        initial_train_size = len(data.loc[:end_validation]),\n",
    "        refit              = False,\n",
    "    )\n",
    "metric, predictions = backtesting_forecaster(\n",
    "   forecaster              = forecaster,\n",
    "   y                       = data.loc[:end_test, 'users'],\n",
    "   exog                    = data.loc[:end_test, exog_features],\n",
    "   cv                      = cv,\n",
    "   metric                  = 'mean_absolute_error',\n",
    "   interval                = [5, 95], # 90% prediction interval\n",
    "   n_boot                  = 150,\n",
    "   use_in_sample_residuals = False,  # Use out-sample residuals\n",
    "   use_binned_residuals    = True,   # Use residuals conditioned on predicted values\n",
    "   n_jobs                  = 'auto',\n",
    "   verbose                 = False,\n",
    "   show_progress           = True\n",
    ")\n",
    "predictions.head(5)"
   ]
  },
  {
   "cell_type": "code",
   "execution_count": null,
   "id": "aaffad50-bbd9-432b-9bfb-f72acd5f791b",
   "metadata": {},
   "outputs": [],
   "source": [
    "fig = go.Figure([\n",
    "    go.Scatter(name='Prediction', x=predictions.index, y=predictions['pred'], mode='lines'),\n",
    "    go.Scatter(\n",
    "        name='Real value', x=data_test.loc[:end_test].index, y=data_test.loc[:end_test, 'users'], mode='lines',\n",
    "    ),\n",
    "    go.Scatter(\n",
    "        name='Upper Bound', x=predictions.index, y=predictions['upper_bound'], mode='lines',\n",
    "        marker=dict(color=\"#444\"), line=dict(width=0), showlegend=False\n",
    "    ),\n",
    "    go.Scatter(\n",
    "        name='Lower Bound', x=predictions.index, y=predictions['lower_bound'], marker=dict(color=\"#444\"),\n",
    "        line=dict(width=0), mode='lines', fillcolor='rgba(68, 68, 68, 0.3)', fill='tonexty', showlegend=False\n",
    "    )\n",
    "])\n",
    "fig.update_layout(\n",
    "    title=\"Real value vs predicted in test data\",\n",
    "    xaxis_title=\"Date time\",\n",
    "    yaxis_title=\"users\",\n",
    "    width=950,\n",
    "    height=400,\n",
    "    margin=dict(l=20, r=20, t=35, b=20),\n",
    "    hovermode=\"x\",\n",
    "    legend=dict(orientation=\"h\", yanchor=\"top\", y=1.1, xanchor=\"left\", x=0.001),\n",
    "    # Initial zoom on x axis betwee 1 oct to 10 oct\n",
    "    xaxis=dict(range=['2012-10-01', '2012-10-15'])\n",
    ")\n",
    "fig.show()"
   ]
  },
  {
   "cell_type": "code",
   "execution_count": null,
   "id": "9258ae6c-c7c0-4d2a-b0e2-416121b87632",
   "metadata": {},
   "outputs": [],
   "source": [
    "coverage = np.mean(\n",
    "    np.logical_and(\n",
    "        data.loc[end_validation:end_test, 'users'] >= predictions[\"lower_bound\"],\n",
    "        data.loc[end_validation:end_test, 'users'] <= predictions[\"upper_bound\"]\n",
    "    )\n",
    ")\n",
    "area = (predictions['upper_bound'] - predictions['lower_bound']).sum()\n",
    "print(f\"Total area of the interval: {round(area, 2)}\")\n",
    "print(f\"Predicted interval coverage: {round(100 * coverage, 2)} %\")"
   ]
  },
  {
   "cell_type": "code",
   "execution_count": null,
   "id": "b49c0f61-07d9-45d0-b15f-f56b7c9d7bb5",
   "metadata": {},
   "outputs": [],
   "source": [
    "predictions = forecaster.predict(steps=24*3, exog=data_test[exog_features])\n",
    "predictions"
   ]
  },
  {
   "cell_type": "code",
   "execution_count": null,
   "id": "0a21ee9d-e67a-4199-b5dd-dd04c833c311",
   "metadata": {},
   "outputs": [],
   "source": [
    "from datetime import datetime\n",
    "\n",
    "date_range = data_test['users'].loc['2012-08-01':'2012-08-03']\n",
    "\n",
    "fig, ax = plt.subplots(figsize=(6, 2.5))\n",
    "date_range.plot(ax=ax, label='Test')\n",
    "predictions.plot(ax=ax, label='Predictions', linestyle='--')\n",
    "ax.set_xlabel(None)\n",
    "ax.legend();"
   ]
  },
  {
   "cell_type": "markdown",
   "id": "501c109a-d644-47bd-9ee5-e85f820a11aa",
   "metadata": {},
   "source": [
    "##### Feature Importance Analysis"
   ]
  },
  {
   "cell_type": "code",
   "execution_count": null,
   "id": "b1b62168-4d1d-4793-a0a6-443fa9483a8c",
   "metadata": {},
   "outputs": [],
   "source": [
    "forecaster = ForecasterRecursive(\n",
    "    regressor        = LGBMRegressor(**best_params),\n",
    "    lags             = [36,48, 72, 1, 3, 6, 23, 24, 25, 167, 168, 169],\n",
    "    window_features  = window_features,\n",
    "    transformer_exog = transformer_exog,\n",
    "    fit_kwargs       = {\"categorical_feature\": \"auto\"}\n",
    ")\n",
    "forecaster.fit(\n",
    "    y    = data.loc[:end_validation, 'users'],\n",
    "    exog = data.loc[:end_validation, exog_features]\n",
    ")"
   ]
  },
  {
   "cell_type": "code",
   "execution_count": null,
   "id": "8b2e9633-182b-447a-b08d-751ff1fed836",
   "metadata": {},
   "outputs": [],
   "source": [
    "importance = forecaster.get_feature_importances()\n",
    "importance.head(10)"
   ]
  },
  {
   "cell_type": "code",
   "execution_count": null,
   "id": "0f19bd07-e057-4ab0-92a1-ff59089db73c",
   "metadata": {},
   "outputs": [],
   "source": [
    "imp15=importance.head(10)\n",
    "#https://stackoverflow.com/questions/59559682/how-to-change-pandas-dataframe-plot-fontsize-of-xlabel\n",
    "ax=imp15.plot.bar(x='feature', y='importance', rot=0,figsize=(18,6),fontsize=16)\n",
    "ax.legend(loc='upper right',fontsize=16)\n",
    "ax.set_xlabel('Feature',fontdict={'fontsize':16})"
   ]
  },
  {
   "cell_type": "markdown",
   "id": "272669b9-bda6-42d2-923a-5a5a936a0f5c",
   "metadata": {},
   "source": [
    "##### Using SHAP Tree Explainer"
   ]
  },
  {
   "cell_type": "code",
   "execution_count": null,
   "id": "d6e2974f-7c1f-439a-9fec-62451f0ac3cf",
   "metadata": {},
   "outputs": [],
   "source": [
    "explainer = shap.TreeExplainer(forecaster.regressor)\n",
    "\n",
    "# Sample 50% of the data to speed up the calculation\n",
    "rng = np.random.default_rng(seed=123)\n",
    "sample = rng.choice(X_train.index, size=int(len(X_train)*0.5), replace=False)\n",
    "X_train_sample = X_train.loc[sample, :]\n",
    "shap_values = explainer.shap_values(X_train_sample)\n",
    "\n",
    "# Shap summary plot (top 10)\n",
    "# ==============================================================================\n",
    "shap.initjs()\n",
    "shap.summary_plot(shap_values, X_train_sample, max_display=10, show=False)\n",
    "fig, ax = plt.gcf(), plt.gca()\n",
    "ax.set_title(\"SHAP Summary plot\")\n",
    "ax.tick_params(labelsize=14)\n",
    "fig.set_size_inches(10, 8)"
   ]
  },
  {
   "cell_type": "code",
   "execution_count": null,
   "id": "8389e151-2ad7-424d-b8ee-dffe68837353",
   "metadata": {},
   "outputs": [],
   "source": [
    "shap.force_plot(explainer.expected_value, shap_values[0, :], X_train_sample.iloc[0, :])"
   ]
  },
  {
   "cell_type": "code",
   "execution_count": null,
   "id": "fd669e5e-d992-4c9b-8c6d-c9b055711a40",
   "metadata": {},
   "outputs": [],
   "source": [
    "# https://cienciadedatos.net/documentos/py57-interpretable-forecasting-models.html\n",
    "shap.summary_plot(shap_values, X_train, plot_type=\"bar\", plot_size=(12,8))"
   ]
  },
  {
   "cell_type": "code",
   "execution_count": null,
   "id": "56a6b33e-fae5-44bd-ba05-51d0918adfd5",
   "metadata": {},
   "outputs": [],
   "source": [
    "shap.force_plot(explainer.expected_value, shap_values[:300, :], X_train_sample.iloc[:300, :])"
   ]
  },
  {
   "cell_type": "code",
   "execution_count": null,
   "id": "ff716efb-f8f0-4f8a-9750-fea08eb36de7",
   "metadata": {},
   "outputs": [],
   "source": [
    "fig, ax = plt.subplots(figsize=(6, 3))\n",
    "shap.dependence_plot(\"lag_1\", shap_values, X_train_sample, ax=ax)"
   ]
  },
  {
   "cell_type": "code",
   "execution_count": null,
   "id": "f03add1d-3f01-4101-bbd1-ccef6238d04f",
   "metadata": {},
   "outputs": [],
   "source": [
    "import matplotlib.pyplot as plt\n",
    "from sklearn.inspection import PartialDependenceDisplay\n",
    "\n",
    "#\n",
    "\n",
    "fig, ax = plt.subplots(figsize=(8, 3))\n",
    "pd.plots = PartialDependenceDisplay.from_estimator(\n",
    "    estimator = forecaster.regressor,\n",
    "    X         = X_train,\n",
    "    features  = [\"lag_168\", \"lag_1\"],\n",
    "    kind      = 'both',\n",
    "    ax        = ax,\n",
    ")\n",
    "ax.set_title(\"Partial Dependence Plot\")\n",
    "fig.tight_layout();"
   ]
  }
 ],
 "metadata": {
  "kernelspec": {
   "display_name": "Python 3 (ipykernel)",
   "language": "python",
   "name": "python3"
  },
  "language_info": {
   "codemirror_mode": {
    "name": "ipython",
    "version": 3
   },
   "file_extension": ".py",
   "mimetype": "text/x-python",
   "name": "python",
   "nbconvert_exporter": "python",
   "pygments_lexer": "ipython3",
   "version": "3.12.4"
  }
 },
 "nbformat": 4,
 "nbformat_minor": 5
}
