{
 "cells": [
  {
   "cell_type": "markdown",
   "id": "1d9f8e6a-9686-40d4-bea3-df5c737c5337",
   "metadata": {},
   "source": [
    "### Time Series Forecasting\n",
    "\n",
    "> [From Data Preparation to Stationarity and Predictive Modeling](https://medium.com/data-science-collective/hands-on-time-series-forecasting-43ccbd418c9a)"
   ]
  },
  {
   "cell_type": "code",
   "execution_count": null,
   "id": "8373096f-a7f6-4986-802d-5dd94fda19ba",
   "metadata": {},
   "outputs": [],
   "source": [
    "# 1. Imports\n",
    "\n",
    "import pandas as pd\n",
    "import numpy as np\n",
    "import matplotlib.pyplot as plt\n",
    "import matplotlib as m\n",
    "import seaborn as sns\n",
    "import statsmodels.api as sm\n",
    "from statsmodels.tsa.seasonal import seasonal_decompose\n",
    "\n",
    "import warnings\n",
    "warnings.filterwarnings(\"ignore\")"
   ]
  },
  {
   "cell_type": "code",
   "execution_count": null,
   "id": "2c253d05-6b19-46a4-9f16-6698b54460bf",
   "metadata": {},
   "outputs": [],
   "source": [
    "# 2. Formatting Graph Outputs\n",
    "\n",
    "# Set Matplotlib to default style for a minimalist look\n",
    "plt.style.use('default')\n",
    "\n",
    "# Allow all columns to display without truncation\n",
    "pd.set_option('display.max_columns', 500)\n",
    "\n",
    "# Auto-adjust pandas display width for readability\n",
    "pd.set_option('display.width', None)\n",
    "\n",
    "# Set default figure size for visible graphs\n",
    "m.rcParams['figure.figsize'] = (12, 6)\n",
    "\n",
    "# Set font size for axis labels and tick labels\n",
    "m.rcParams['axes.labelsize'] = 12\n",
    "m.rcParams['xtick.labelsize'] = 10\n",
    "m.rcParams['ytick.labelsize'] = 10\n",
    "\n",
    "# Make axis titles bold for emphasis\n",
    "m.rcParams['axes.titleweight'] = 'bold'\n",
    "\n",
    "# Ensure text color is black for readability\n",
    "m.rcParams['text.color'] = 'black'\n",
    "\n",
    "# Increase line width for better visibility\n",
    "m.rcParams['lines.linewidth'] = 2\n",
    "\n",
    "# Set axis lines: thin, light gray for subtlety\n",
    "m.rcParams['axes.axisbelow'] = True\n",
    "m.rcParams['axes.grid'] = False\n",
    "m.rcParams['axes.linewidth'] = 0.8\n",
    "m.rcParams['axes.edgecolor'] = 'gray'\n",
    "\n",
    "# Add custom grid: light gray, dotted, thin lines\n",
    "m.rcParams['grid.color'] = 'gray'\n",
    "m.rcParams['grid.linestyle'] = ':'\n",
    "m.rcParams['grid.linewidth'] = 0.8\n",
    "m.rcParams['grid.alpha'] = 0.5"
   ]
  },
  {
   "cell_type": "code",
   "execution_count": null,
   "id": "4365ed82-bab4-4c61-80c2-b83b537e8f0e",
   "metadata": {},
   "outputs": [],
   "source": [
    "# 3. Loading the Data\n",
    "df = pd.read_csv('../../data/energy_consumption_dataset.csv', header=None)\n",
    "\n",
    "# 4. Visualizing the Data\n",
    "df.head()"
   ]
  },
  {
   "cell_type": "code",
   "execution_count": null,
   "id": "982a0f74-cb7c-483a-8bd9-a4cf17efb3ac",
   "metadata": {},
   "outputs": [],
   "source": [
    "# 5. Renaming Columns\n",
    "df.columns = ['Month', 'Energy_Consumption']\n",
    "\n",
    "# 6. Visualizing the Data\n",
    "df.head()"
   ]
  },
  {
   "cell_type": "code",
   "execution_count": null,
   "id": "166695a6-8319-45e9-9a6f-a427769f5465",
   "metadata": {},
   "outputs": [],
   "source": [
    "# 7. Statistical summary of `energy_consumption`\n",
    "df.describe()"
   ]
  },
  {
   "cell_type": "code",
   "execution_count": null,
   "id": "5cec4966-fc65-4fcf-90a8-d010aa8fed26",
   "metadata": {},
   "outputs": [],
   "source": [
    "# 8. Month with the highest `energy_consumption`\n",
    "df.max()"
   ]
  },
  {
   "cell_type": "code",
   "execution_count": null,
   "id": "f775ec39-5408-4a1c-b665-a24ccbd5d9d6",
   "metadata": {},
   "outputs": [],
   "source": [
    "# 9. Collecting the full period of the time series  \n",
    "print('Start of Time Period: {}\\\\nEnd of Time Period: {}'.format(  \n",
    "    df.Month.min(), df.Month.max()  \n",
    "))"
   ]
  },
  {
   "cell_type": "code",
   "execution_count": null,
   "id": "1d7ff6e3-ff8d-47a8-b56d-34031b9b5200",
   "metadata": {},
   "outputs": [],
   "source": [
    "# 10. Shape of the dataset  \n",
    "df.shape"
   ]
  },
  {
   "cell_type": "code",
   "execution_count": null,
   "id": "3bf7d47d-0a9b-4319-aeed-0ba5bf387128",
   "metadata": {},
   "outputs": [],
   "source": [
    "# 11. Object type  \n",
    "type(df)"
   ]
  },
  {
   "cell_type": "code",
   "execution_count": null,
   "id": "b0a0b44a-b0a2-44c0-b582-5bc658baf0ab",
   "metadata": {},
   "outputs": [],
   "source": [
    "# 12. Viewing the data  \n",
    "df.head()"
   ]
  },
  {
   "cell_type": "code",
   "execution_count": null,
   "id": "55b60997-cc95-4238-80ae-7047e9fa5c13",
   "metadata": {},
   "outputs": [],
   "source": [
    "# 13. Data types  \n",
    "df.dtypes"
   ]
  },
  {
   "cell_type": "code",
   "execution_count": null,
   "id": "31f80668-9726-4c03-9d16-91bd789de48d",
   "metadata": {},
   "outputs": [],
   "source": [
    "# 14. Converting `Month` column from object to datetime  \n",
    "df['Month'] = pd.to_datetime(df['Month'], format='%Y-%m')\n",
    "\n",
    "# 15. Viewing the data  \n",
    "df.head()"
   ]
  },
  {
   "cell_type": "code",
   "execution_count": null,
   "id": "4830e37b-6082-427f-8094-27329fa3837e",
   "metadata": {},
   "outputs": [],
   "source": [
    "# 16. Setting `Month` column as index  \n",
    "# This will make future operations easier  \n",
    "df_series = df.set_index('Month')\n",
    "\n",
    "# 17. Viewing the data  \n",
    "df_series.head()"
   ]
  },
  {
   "cell_type": "code",
   "execution_count": null,
   "id": "d7691320-648d-4101-b641-e4b167c6b678",
   "metadata": {},
   "outputs": [],
   "source": [
    "# 18. Viewing the index  \n",
    "df_series.index"
   ]
  },
  {
   "cell_type": "code",
   "execution_count": null,
   "id": "ee79ebcd-f4b2-4617-b396-3c2af1a10207",
   "metadata": {},
   "outputs": [],
   "source": [
    "# 19. Checking for missing values  \n",
    "df_series.isnull().sum()"
   ]
  },
  {
   "cell_type": "markdown",
   "id": "bf3c60a2-0bcc-427b-a477-0fa20f172e87",
   "metadata": {},
   "source": [
    "#### Time Series Trend Analysis"
   ]
  },
  {
   "cell_type": "code",
   "execution_count": null,
   "id": "1cc4ca2f-bb80-46ff-bbfd-e5345fbddb69",
   "metadata": {},
   "outputs": [],
   "source": [
    "# 20. Plot the time series to observe trends\n",
    "df_series.plot(figsize=(15, 6))\n",
    "plt.show()"
   ]
  },
  {
   "cell_type": "markdown",
   "id": "41549ef1-484b-48c4-b38b-55888c5c37ea",
   "metadata": {},
   "source": [
    "#### Time Series Density Plot"
   ]
  },
  {
   "cell_type": "code",
   "execution_count": null,
   "id": "1a15501b-fdce-40bb-829c-6c15becf3215",
   "metadata": {},
   "outputs": [],
   "source": [
    "# 21.a Plot density analysis for Energy_Consumption\n",
    "plt.figure(figsize=(10, 8))\n",
    "\n",
    "# 21.b Histogram to visualize frequency distribution\n",
    "plt.subplot(2, 1, 1)\n",
    "df_series['Energy_Consumption'].hist(\n",
    "    bins=30, edgecolor='black'\n",
    ")\n",
    "plt.title('Energy Consumption - Histogram')\n",
    "\n",
    "# 21.c KDE plot to analyze distribution shape\n",
    "plt.subplot(2, 1, 2)\n",
    "df_series['Energy_Consumption'].plot(\n",
    "    kind='kde', linewidth=2, color='darkblue'\n",
    ")\n",
    "plt.title('Energy Consumption - Density Plot')\n",
    "\n",
    "plt.tight_layout()\n",
    "plt.show()"
   ]
  },
  {
   "cell_type": "markdown",
   "id": "55b51e81-a59c-4430-99a3-202696acb8bc",
   "metadata": {},
   "source": [
    "#### Box Plot Series Trend Analysis"
   ]
  },
  {
   "cell_type": "code",
   "execution_count": null,
   "id": "5c8e6cd9-68e0-434e-a2da-d4abb7aae974",
   "metadata": {},
   "outputs": [],
   "source": [
    "# 22.a Define the plotting area for the boxplots\n",
    "fig, ax = plt.subplots(figsize=(15, 6))\n",
    "\n",
    "# 22.b Extract year from index and define the target variable\n",
    "year_index = df_series.index.year\n",
    "energy_values = df_series['Energy_Consumption']\n",
    "\n",
    "# 22.c Create a boxplot for each year using Seaborn\n",
    "sns.boxplot(x=year_index, y=energy_values, ax=ax)\n",
    "\n",
    "# 22.d Set axis labels\n",
    "plt.xlabel(\"\\nYear\")\n",
    "plt.ylabel(\"\\nEnergy Consumption\")\n",
    "\n",
    "plt.show()"
   ]
  },
  {
   "cell_type": "markdown",
   "id": "0bded9b1-0688-4931-8292-276104697999",
   "metadata": {},
   "source": [
    "#### Visualizing Time Series Decomposition"
   ]
  },
  {
   "cell_type": "code",
   "execution_count": null,
   "id": "1fe2167a-da40-4bc9-a109-d75632e066a5",
   "metadata": {},
   "outputs": [],
   "source": [
    "# 23.a Perform multiplicative decomposition of the time series\n",
    "decomposition_multiplicative = sm.tsa.seasonal_decompose(\n",
    "    df_series, model='multiplicative', extrapolate_trend='freq'\n",
    ")\n",
    "\n",
    "# 23.b Check the object type of the decomposition result\n",
    "type(decomposition_multiplicative)"
   ]
  },
  {
   "cell_type": "code",
   "execution_count": null,
   "id": "87b42b0d-8d5f-498d-8730-685d198c76ab",
   "metadata": {},
   "outputs": [],
   "source": [
    "# 24.a Configure plot size\n",
    "plt.rcParams.update({'figure.figsize': (16, 10)})\n",
    "\n",
    "# 24.b Plot the multiplicative decomposition\n",
    "decomposition_multiplicative.plot().suptitle('Multiplicative Decomposition', \n",
    "fontsize=22)\n",
    "\n",
    "plt.show()"
   ]
  },
  {
   "cell_type": "code",
   "execution_count": null,
   "id": "afdd8f4a-be8e-4702-a2ce-63af439c7e17",
   "metadata": {},
   "outputs": [],
   "source": [
    "# 25.a Perform additive decomposition of the time series\n",
    "decomposition_additive = sm.tsa.seasonal_decompose(\n",
    "    df_series, model='additive', extrapolate_trend='freq'\n",
    ")\n",
    "\n",
    "# 25.b Check the object type of the additive decomposition result\n",
    "type(decomposition_additive)"
   ]
  },
  {
   "cell_type": "code",
   "execution_count": null,
   "id": "d5f50f71-3882-48e6-9aed-0d7f54ef9b8b",
   "metadata": {},
   "outputs": [],
   "source": [
    "# 25.c Set plot size for better visualization\n",
    "plt.figure(figsize=(16, 10))\n",
    "\n",
    "# 25.d Plot the additive decomposition with a title\n",
    "fig = decomposition_additive.plot()\n",
    "fig.suptitle('Additive Decomposition', fontsize=22)\n",
    "plt.show()"
   ]
  },
  {
   "cell_type": "code",
   "execution_count": null,
   "id": "ad59f4c0-4e1e-4a1f-835a-664bdc9579fa",
   "metadata": {},
   "outputs": [],
   "source": [
    "# 26.a Concatenate the decomposed components of the time series\n",
    "df_series_reconstructed = pd.concat(\n",
    "    [\n",
    "        decomposition_multiplicative.seasonal,  # Seasonal component\n",
    "        decomposition_multiplicative.trend,     # Trend component\n",
    "        decomposition_multiplicative.resid,     # Residual (noise) component\n",
    "        decomposition_multiplicative.observed   # Observed (original) time series\n",
    "    ], axis=1\n",
    ")"
   ]
  },
  {
   "cell_type": "code",
   "execution_count": null,
   "id": "c0a8d1f5-8d73-48d3-8657-eb5339ef1abb",
   "metadata": {},
   "outputs": [],
   "source": [
    "# 26.b Rename columns to reflect the decomposed components\n",
    "df_series_reconstructed.columns = ['Seasonality', 'Trend', 'Residuals', 'Observed_Values']\n",
    "\n",
    "# 26.c Display the first rows of the reconstructed time series DataFrame\n",
    "df_series_reconstructed.head()"
   ]
  },
  {
   "cell_type": "code",
   "execution_count": null,
   "id": "6e46d555-cb94-405b-89a3-8af6ade9b78a",
   "metadata": {},
   "outputs": [],
   "source": [
    "# 27.a Compute the observed value using given factors\n",
    "observed_value = 0.911256 * 118.588481 * 1.036418\n",
    "\n",
    "# 27.b Print the computed value\n",
    "print(observed_value)"
   ]
  },
  {
   "cell_type": "markdown",
   "id": "63aef377-fd96-4507-bf31-b4ff030f46fd",
   "metadata": {},
   "source": [
    "#### Time Series Statistical Modeling"
   ]
  },
  {
   "cell_type": "markdown",
   "id": "bc0041d6-d3b1-4ae1-a3ed-121148c18b7c",
   "metadata": {},
   "source": [
    "Before any predictive modeling, these properties must be ensured to remain constant:\n",
    "\n",
    "- **Stationarity** — The series must be stationary, meaning its mean and variance do not change over time.\n",
    "- **No autocorrelation** — Observations should not be strongly correlated with previous values.\n",
    "- **Normal distribution** — Many models assume that time series values follow a normal distribution."
   ]
  },
  {
   "cell_type": "markdown",
   "id": "ad27c2eb-b982-48f9-8a77-ac70356c9039",
   "metadata": {},
   "source": [
    "#### Rolling Statistics Plot (Moving Averages)\n",
    "\n",
    "A quick way to check stationarity is by plotting rolling statistics.\n",
    "\n",
    "If the series fails this first test, it is evident that there's an issue, and move straight to data transformation."
   ]
  },
  {
   "cell_type": "code",
   "execution_count": null,
   "id": "c3ddde52-6b35-4e67-8bd2-3099a1802d52",
   "metadata": {},
   "outputs": [],
   "source": [
    "# 28. Check the type of the dataset\n",
    "type(df_series)"
   ]
  },
  {
   "cell_type": "code",
   "execution_count": null,
   "id": "5d2f7e46-992c-4a83-a3e1-4a5005c4a307",
   "metadata": {},
   "outputs": [],
   "source": [
    "# 29. Compute rolling statistics for trend analysis\n",
    "\n",
    "# 29.a Calculate the 12-month moving average\n",
    "rolling_mean = df_series['Energy_Consumption'].rolling(\n",
    "    window=12).mean()\n",
    "\n",
    "\n",
    "# 29.b Calculate the 12-month rolling standard deviation\n",
    "rolling_std = df_series['Energy_Consumption'].rolling(\n",
    "    window=12).std()"
   ]
  },
  {
   "cell_type": "code",
   "execution_count": null,
   "id": "b94f1596-3235-4de6-865d-d1349c373e77",
   "metadata": {},
   "outputs": [],
   "source": []
  },
  {
   "cell_type": "code",
   "execution_count": null,
   "id": "0fef2d15-259f-47db-9671-7207d51a078d",
   "metadata": {},
   "outputs": [],
   "source": [
    "# 31. Plot rolling statistics for trend and variance analysis\n",
    "plt.figure(figsize=(12, 6))\n",
    "\n",
    "# 31.a Plot original time series values\n",
    "plt.plot(df_series['Energy_Consumption'], color='blue', label='Original')\n",
    "\n",
    "# 31.b Plot moving average (rolling mean)\n",
    "plt.plot(rolling_mean, color='red', label='Moving Average')\n",
    "\n",
    "# 31.c Plot rolling standard deviation\n",
    "plt.plot(rolling_std, color='black', label='Standard Deviation')\n",
    "\n",
    "# 31.d Configure legend and title\n",
    "plt.legend(loc='best')\n",
    "plt.title('Rolling Statistics - Moving Average & Standard Deviation')\n",
    "plt.show()"
   ]
  },
  {
   "cell_type": "markdown",
   "id": "03ad5f8b-5c9d-4ac9-8741-168ddf30a8aa",
   "metadata": {},
   "source": [
    "#### Autocorrelation and Partial Autocorrelation Plots\n",
    "\n",
    "Autocorrelation happens when a value in the series is correlated with its past values.\n",
    "\n",
    "To validate this, we’ll use:\n",
    "\n",
    "- **ACF (Autocorrelation Function)** plot\n",
    "- **PACF (Partial Autocorrelation Function)** plot"
   ]
  },
  {
   "cell_type": "code",
   "execution_count": null,
   "id": "10ab4c58-a424-480d-bf7d-8cb9e395447c",
   "metadata": {},
   "outputs": [],
   "source": [
    "# 32. Import functions for ACF and PACF plots\n",
    "from statsmodels.graphics.tsaplots import plot_acf, plot_pacf\n",
    "\n",
    "# 33. Set global figure size for visualization\n",
    "plt.rcParams.update({'figure.figsize': (16, 10)})\n",
    "\n",
    "\n",
    "# 34. Plot the ACF (Autocorrelation Function)\n",
    "\n",
    "# 34.a Define subplot for ACF plot\n",
    "plt.subplot(2, 1, 1)\n",
    "\n",
    "\n",
    "# 34.b Generate ACF plot with 30 lags\n",
    "plot_acf(df_series['Energy_Consumption'], \n",
    "         ax=plt.gca(), lags=30)\n",
    "\n",
    "\n",
    "# 35. Plot the PACF (Partial Autocorrelation Function)\n",
    "\n",
    "# 35.a Define subplot for PACF plot\n",
    "plt.subplot(2, 1, 2)\n",
    "\n",
    "# 35.b Generate PACF plot with 30 lags\n",
    "plot_pacf(df_series['Energy_Consumption'], \n",
    "          ax=plt.gca(), lags=30, method='ywm')\n",
    "\n",
    "plt.show()"
   ]
  },
  {
   "cell_type": "markdown",
   "id": "e5aaa834-2890-4b4e-a3be-2123e20981bf",
   "metadata": {},
   "source": [
    "#### Augmented Dickey-Fuller Test\n",
    "\n",
    "The ADF test is a hypothesis test used to check whether a time series is stationary.\n",
    "\n",
    "If a series is integrated (non-stationary), the lagged values (`y(t-1)`) will not provide information for predicting changes in `y` at time `t`.\n",
    "\n",
    "The test evaluates two hypotheses:\n",
    "\n",
    "- **Null hypothesis (H₀)**: The time series is non-stationary.\n",
    "- **Alternative hypothesis (H₁)**: The time series is stationary.\n",
    "\n",
    "##### Decision Rule\n",
    "- If the `p-value < 0.05`, we reject `H₀`, meaning the series is stationary.\n",
    "- If the `p-value ≥ 0.05`, we fail to reject `H₀`, meaning the series is not stationary."
   ]
  },
  {
   "cell_type": "code",
   "execution_count": null,
   "id": "5e4082a5-5a10-463b-8212-347e51305404",
   "metadata": {},
   "outputs": [],
   "source": [
    "# 36. Import Dickey-Fuller test function\n",
    "from statsmodels.tsa.stattools import adfuller\n",
    "\n",
    "# 37. Perform the Augmented Dickey-Fuller (ADF) test\n",
    "# 37.a Print test header\n",
    "print('\\\\nDickey-Fuller Test Results:\\\\n')\n",
    "# 37.b Apply ADF test on the time series\n",
    "adf_test = adfuller(df_series['Energy_Consumption'], \n",
    "                     autolag='AIC')\n",
    "# 38. Format the test output\n",
    "\n",
    "# 38.a Create a Series with test statistics\n",
    "df_output = pd.Series(adf_test[0:4], index=[\n",
    "    'Test Statistic', 'p-value', \n",
    "    'Lags Used', 'Observations Used'])\n",
    "\n",
    "# 38.b Append critical values to output\n",
    "for key, value in adf_test[4].items():\n",
    "    df_output[f'Critical Value ({key})'] = value\n",
    "\n",
    "# 39. Display test results\n",
    "print(df_output)"
   ]
  },
  {
   "cell_type": "code",
   "execution_count": null,
   "id": "fedbe59d-2b09-4e0a-8ca4-c4f5e2e10cce",
   "metadata": {},
   "outputs": [],
   "source": [
    "# 40. Function to test stationarity in time series\n",
    "def test_stationarity(series):\n",
    "    \n",
    "    # 40.a Compute rolling statistics\n",
    "    rolling_mean = series.rolling(12).mean()\n",
    "    rolling_std = series.rolling(12).std()\n",
    "    \n",
    "    # 40.b Plot rolling statistics\n",
    "    plt.figure(figsize=(12, 6))\n",
    "    plt.plot(series, color='blue', label='Original')\n",
    "    plt.plot(rolling_mean, color='red', label='Moving Avg')\n",
    "    plt.plot(rolling_std, color='black', label='Std Dev')\n",
    "    plt.legend(loc='best')\n",
    "    plt.title('Rolling Statistics')\n",
    "    plt.show()\n",
    "    \n",
    "    # 40.c Perform the Dickey-Fuller test\n",
    "    print(\"\\nDickey-Fuller Test Results:\\n\")\n",
    "    adf_test = adfuller(series, autolag='AIC')\n",
    "    \n",
    "    # 40.d Format the test output\n",
    "    df_output = pd.Series(adf_test[0:4], index=[\n",
    "        'Test Statistic', 'p-value', \n",
    "        'Lags Used', 'Observations Used'])\n",
    "    \n",
    "    # 40.e Append critical values\n",
    "    for key, value in adf_test[4].items():\n",
    "        df_output[f'Critical Value ({key})'] = value\n",
    "    \n",
    "    # 40.f Display results\n",
    "    print(df_output)\n",
    "    \n",
    "    # 40.g Interpret stationarity based on p-value\n",
    "    p_value = adf_test[1]\n",
    "    if p_value < 0.05:\n",
    "        print(\"\\nThe series is stationary (p < 0.05).\")\n",
    "    else:\n",
    "        print(\"\\nThe series is non-stationary (p >= 0.05).\")\n",
    "\n",
    "# 41. Execute the stationarity test function\n",
    "test_stationarity(df_series)"
   ]
  },
  {
   "cell_type": "markdown",
   "id": "c22d8952-6bde-4c15-a6cc-ad5ae349154c",
   "metadata": {},
   "source": [
    "#### Transforming Non-Stationary Time Series"
   ]
  },
  {
   "cell_type": "markdown",
   "id": "d86493b1-dcf4-4ef8-b5fb-6aa120fa753e",
   "metadata": {},
   "source": [
    "##### Log Transformation\n",
    "\n",
    "Main goal is to forecast energy consumption using time series.\n",
    "\n",
    "Log transformation is widely used in data science when adjusting variable scales. The process is straightforward: call the log function, pass the target variable, and execute the transformation."
   ]
  },
  {
   "cell_type": "code",
   "execution_count": null,
   "id": "c6f8c4ba-d231-4c81-84b6-95f02f2e4930",
   "metadata": {},
   "outputs": [],
   "source": [
    "# 42. Apply log transformation to stabilize variance\n",
    "df_series['Energy_Consumption_Log'] = np.log(\n",
    "    df_series['Energy_Consumption'])\n",
    "\n",
    "# 43. Display the first rows of the transformed dataset\n",
    "df_series.head()"
   ]
  },
  {
   "cell_type": "code",
   "execution_count": null,
   "id": "977ff139-8af5-4ab6-92a1-92253448ff3a",
   "metadata": {},
   "outputs": [],
   "source": [
    "# 44. Plot the transformed time series\n",
    "plt.plot(df_series['Energy_Consumption_Log'], \n",
    "         color=\"blue\")"
   ]
  },
  {
   "cell_type": "code",
   "execution_count": null,
   "id": "90447a25-2b34-46ec-ba2a-03a1efba0818",
   "metadata": {},
   "outputs": [],
   "source": [
    "# 45. Plot histogram of the transformed series\n",
    "plt.subplot(2, 1, 1)\n",
    "plt.hist(df_series['Energy_Consumption_Log'], \n",
    "         color=\"blue\")"
   ]
  },
  {
   "cell_type": "code",
   "execution_count": null,
   "id": "bf1fa0c1-a91e-4ca5-a58d-0c8cdf9a75ae",
   "metadata": {},
   "outputs": [],
   "source": [
    "# 46. Function to test stationarity in time series\n",
    "def test_stationarity(series):\n",
    "\n",
    "    # 46.a Import ADF test function\n",
    "    from statsmodels.tsa.stattools import adfuller\n",
    "    \n",
    "    # 46.b Compute rolling statistics\n",
    "    rolling_mean = series.rolling(12).mean()\n",
    "    rolling_std = series.rolling(12).std()\n",
    "    \n",
    "    # 46.c Plot rolling statistics\n",
    "    plt.figure(figsize=(12, 6))\n",
    "    plt.plot(series, color='blue', label='Original')\n",
    "    plt.plot(rolling_mean, color='red', label='Moving Avg')\n",
    "    plt.plot(rolling_std, color='black', label='Std Dev')\n",
    "    plt.legend(loc='best')\n",
    "    plt.title('Rolling Statistics')\n",
    "    plt.show()\n",
    "    \n",
    "    # 46.d Perform the Dickey-Fuller test\n",
    "    print(\"\\nDickey-Fuller Test Results:\\n\")\n",
    "    adf_test = adfuller(series, autolag='AIC')\n",
    "    \n",
    "    # 46.e Format the test output\n",
    "    df_output = pd.Series(adf_test[0:4], index=[\n",
    "        'Test Statistic', 'p-value', \n",
    "        'Lags Used', 'Observations Used'])\n",
    "    \n",
    "    # 46.f Append critical values\n",
    "    for key, value in adf_test[4].items():\n",
    "        df_output[f'Critical Value ({key})'] = value\n",
    "    \n",
    "    # 46.g Display results\n",
    "    print(df_output)\n",
    "    \n",
    "    # 46.h Interpret stationarity based on p-value\n",
    "    print(\"\\nConclusion:\")\n",
    "    if df_output['p-value'] > 0.05:\n",
    "        print(\"\\nThe p-value is > 0.05, failing to reject H₀.\")\n",
    "        print(\"The series is likely non-stationary.\")\n",
    "    else:\n",
    "        print(\"\\nThe p-value is < 0.05, rejecting H₀.\")\n",
    "        print(\"The series is likely stationary.\")\n",
    "\n",
    "# 47. Execute the stationarity test on log-transformed data\n",
    "test_stationarity(df_series['Energy_Consumption_Log'])"
   ]
  },
  {
   "cell_type": "markdown",
   "id": "e39e7b10-e742-4a9f-897b-242beab60ef8",
   "metadata": {},
   "source": [
    "##### Square Root Transformation"
   ]
  },
  {
   "cell_type": "code",
   "execution_count": null,
   "id": "ae5a5ae2-ccb5-48f7-80e6-85881a2bae08",
   "metadata": {},
   "outputs": [],
   "source": [
    "# 48.a Apply square root transformation\n",
    "df_series['Energy_Consumption_Sqrt'] = np.sqrt(\n",
    "    df_series['Energy_Consumption'])\n",
    "\n",
    "# 48.b Plot transformed time series\n",
    "plt.figure(figsize=(12, 6))\n",
    "plt.plot(df_series.index, \n",
    "         df_series['Energy_Consumption_Sqrt'], \n",
    "         color=\"green\")\n",
    "\n",
    "# 48.c Format x-axis for better visualization\n",
    "plt.xticks(rotation=45)\n",
    "plt.xlabel(\"Year\")\n",
    "plt.ylabel(\"Square Root of Energy Consumption\")\n",
    "plt.title(\"Transformed Time Series - Square Root\")\n",
    "plt.show()\n",
    "\n",
    "\n",
    "# 48.c Plot histogram of transformed series\n",
    "plt.hist(df_series['Energy_Consumption_Sqrt'], \n",
    "         color=\"green\")\n",
    "plt.show()\n",
    "\n",
    "# 49. Execute stationarity test on sqrt-transformed data\n",
    "test_stationarity(df_series['Energy_Consumption_Sqrt'])"
   ]
  },
  {
   "cell_type": "markdown",
   "id": "a7467bb8-4701-469c-af34-0fa17db780fd",
   "metadata": {},
   "source": [
    "##### Box-Cox Transformation\n",
    "\n",
    "Unlike log and square root transformations, which are fixed, Box-Cox allows customization through the lambda parameter, controlling how the transformation is applied. This flexibility helps adjust the transformation without needing more advanced techniques."
   ]
  },
  {
   "cell_type": "code",
   "execution_count": null,
   "id": "1c466ef0-94b9-447a-a5f9-ab585050a2b6",
   "metadata": {},
   "outputs": [],
   "source": [
    "# 50. Import Box-Cox transformation function\n",
    "from scipy.stats import boxcox\n",
    "\n",
    "# 50.a Apply Box-Cox transformation (λ = 0)\n",
    "df_series['Energy_Consumption_Box'], _ = boxcox(\n",
    "    df_series['Energy_Consumption'])\n",
    "    \n",
    "# 50.b Display first rows of transformed data\n",
    "df_series.head()"
   ]
  },
  {
   "cell_type": "code",
   "execution_count": null,
   "id": "10359fa6-a352-4099-ad5c-292867164727",
   "metadata": {},
   "outputs": [],
   "source": [
    "# 50.c Plot transformed time series\n",
    "plt.plot(df_series['Energy_Consumption_Box'], \n",
    "         color=\"blue\")"
   ]
  },
  {
   "cell_type": "code",
   "execution_count": null,
   "id": "b6bb39c5-c2a3-4c63-a546-2f43b8262271",
   "metadata": {},
   "outputs": [],
   "source": [
    "# 50.d Plot histogram of transformed series\n",
    "plt.hist(df_series['Energy_Consumption_Box'], \n",
    "         color=\"blue\")\n",
    "plt.show()"
   ]
  },
  {
   "cell_type": "code",
   "execution_count": null,
   "id": "08c9fc9e-f36d-4c3b-b2c2-2c3502db3574",
   "metadata": {},
   "outputs": [],
   "source": [
    "# 51. Import Box-Cox transformation function\n",
    "from scipy.stats import boxcox\n",
    "\n",
    "# 51.a Apply Box-Cox transformation and find optimal λ\n",
    "df_series['Energy_Consumption_Box'], lambda_boxcox = boxcox(\n",
    "    df_series['Energy_Consumption']\n",
    ")\n",
    "\n",
    "# 51.b Display the optimal lambda value\n",
    "print(f\"Optimal Box-Cox lambda: {lambda_boxcox:.4f}\")\n",
    "\n",
    "# 51.c Display first rows of transformed data\n",
    "df_series.head()"
   ]
  },
  {
   "cell_type": "code",
   "execution_count": null,
   "id": "87ce1799-5b6e-4740-92a5-7de5ceea0c74",
   "metadata": {},
   "outputs": [],
   "source": [
    "# 51.d Plot transformed time series\n",
    "plt.figure(figsize=(12, 6))\n",
    "plt.plot(df_series.index, \n",
    "         df_series['Energy_Consumption_Box'], \n",
    "         color=\"blue\")\n",
    "\n",
    "# 51.e Format x-axis for better readability\n",
    "plt.xticks(rotation=45)\n",
    "plt.xlabel(\"Year\")\n",
    "plt.ylabel(\"Box-Cox Transformed Energy Consumption\")\n",
    "plt.title(f\"Box-Cox Transformation (λ={lambda_boxcox:.4f})\")\n",
    "plt.show()"
   ]
  },
  {
   "cell_type": "code",
   "execution_count": null,
   "id": "1f4ab987-7180-4fc5-a74e-d3cfd16943ce",
   "metadata": {},
   "outputs": [],
   "source": [
    "# 51.f Plot histogram of transformed series\n",
    "plt.figure(figsize=(10, 5))\n",
    "plt.hist(df_series['Energy_Consumption_Box'], \n",
    "         bins=30, color=\"blue\", edgecolor=\"black\")\n",
    "\n",
    "# 51.g Format histogram for better visualization\n",
    "plt.xlabel(\"Transformed Values\")\n",
    "plt.ylabel(\"Frequency\")\n",
    "plt.title(\"Histogram of Box-Cox Transformed Data\")\n",
    "plt.show()"
   ]
  },
  {
   "cell_type": "code",
   "execution_count": null,
   "id": "fa2fd69d-122c-4064-b861-c40b57e77eb9",
   "metadata": {},
   "outputs": [],
   "source": [
    "# 52.a Execute stationarity test on Box-Cox transformed data\n",
    "test_stationarity(df_series['Energy_Consumption_Box'])"
   ]
  },
  {
   "cell_type": "code",
   "execution_count": null,
   "id": "7abe601e-d8e4-4031-bd45-775bc5e9cf46",
   "metadata": {},
   "outputs": [],
   "source": [
    "# 52.b Execute stationarity test on alternative Box-Cox transformed data\n",
    "test_stationarity(df_series['Energy_Consumption_Box_2'])"
   ]
  },
  {
   "cell_type": "markdown",
   "id": "de99ab95-edaa-48e1-9353-339ac25a0a48",
   "metadata": {},
   "source": [
    "##### Smoothing with Simple Moving Average\n",
    "\n",
    "Two smoothing techniques:\n",
    "\n",
    "- **Simple Moving Average (SMA)**\n",
    "- **Exponential Weighted Moving Average (EWMA)**\n",
    "\n",
    "Calculate the mean of the last K values, depending on the series frequency. A limitation of this method is that the time period must be strictly defined."
   ]
  },
  {
   "cell_type": "code",
   "execution_count": null,
   "id": "29ae839d-b28d-4893-ab54-dcf27bbb490c",
   "metadata": {},
   "outputs": [],
   "source": [
    "# 53.a Compute the mean of the time series\n",
    "series_mean = df_series.mean()\n",
    "print(series_mean)"
   ]
  },
  {
   "cell_type": "code",
   "execution_count": null,
   "id": "7e14ce16-bbcc-48a6-a609-dfd273e0f3fe",
   "metadata": {},
   "outputs": [],
   "source": [
    "# 53.b Create a copy of the original time series\n",
    "df_series_copy = df_series.copy()"
   ]
  },
  {
   "cell_type": "code",
   "execution_count": null,
   "id": "00e24dda-ca8b-42fb-94f1-96ddd9ecc475",
   "metadata": {},
   "outputs": [],
   "source": [
    "# 53.c Apply a 12-month moving average\n",
    "df_series['Energy_Consumption_Smoothed'] = (\n",
    "    df_series['Energy_Consumption']\n",
    "    .rolling(12)\n",
    "    .mean()\n",
    ")\n",
    "\n",
    "# 53.d Display the dataset with the smoothed series\n",
    "df_series"
   ]
  },
  {
   "cell_type": "code",
   "execution_count": null,
   "id": "8f2f8248-df5e-4573-a826-b7c287d7bdb8",
   "metadata": {},
   "outputs": [],
   "source": [
    "# 54. Display the first 20 records of the time series\n",
    "df_series.head(20)"
   ]
  },
  {
   "cell_type": "code",
   "execution_count": null,
   "id": "d6b2645f-5058-4b80-aca9-c425bb357ee3",
   "metadata": {},
   "outputs": [],
   "source": [
    "# 55.a Plot original time series\n",
    "plt.figure(figsize=(12, 6))\n",
    "plt.plot(df_series.index, \n",
    "         df_series['Energy_Consumption'], \n",
    "         color='green', linewidth=2, \n",
    "         label='Original')\n",
    "\n",
    "# 55.b Customize plot aesthetics\n",
    "plt.xticks(rotation=45)\n",
    "plt.xlabel(\"Year\")\n",
    "plt.ylabel(\"Energy Consumption\")\n",
    "plt.title(\"Original Time Series\", fontsize=14, \n",
    "          fontweight='bold')\n",
    "plt.grid(False)\n",
    "plt.legend()\n",
    "plt.show()"
   ]
  },
  {
   "cell_type": "code",
   "execution_count": null,
   "id": "0bf33955-adde-42ad-8d56-c3aaaf506d84",
   "metadata": {},
   "outputs": [],
   "source": [
    "# 55.c Plot smoothed time series\n",
    "plt.figure(figsize=(12, 6))\n",
    "plt.plot(df_series.index, \n",
    "         df_series['Energy_Consumption_Smoothed'], \n",
    "         color='blue', linewidth=2, \n",
    "         label='Smoothed')\n",
    "\n",
    "# 55.d Customize plot aesthetics\n",
    "plt.xticks(rotation=45)\n",
    "plt.xlabel(\"Year\")\n",
    "plt.ylabel(\"Smoothed Energy Consumption\")\n",
    "plt.title(\"Smoothed Time Series\", fontsize=14, \n",
    "          fontweight='bold')\n",
    "plt.grid(False)\n",
    "plt.legend()\n",
    "plt.show()"
   ]
  },
  {
   "cell_type": "code",
   "execution_count": null,
   "id": "20d037eb-7f79-4c9c-b7c1-dd1292d6a496",
   "metadata": {},
   "outputs": [],
   "source": [
    "# 55.e Plot original and smoothed series\n",
    "plt.figure(figsize=(12, 6))\n",
    "\n",
    "# 55.f Plot original series\n",
    "plt.plot(df_series.index, \n",
    "         df_series['Energy_Consumption'], \n",
    "         color='green', linewidth=2, \n",
    "         alpha=0.6, label='Original')\n",
    "\n",
    "# 55.g Plot smoothed series\n",
    "plt.plot(df_series.index, \n",
    "         df_series['Energy_Consumption_Smoothed'], \n",
    "         color='blue', linewidth=2, \n",
    "         label='Smoothed')\n",
    "\n",
    "# 55.h Customize plot aesthetics\n",
    "plt.xticks(rotation=45)\n",
    "plt.xlabel(\"Year\")\n",
    "plt.ylabel(\"Energy Consumption\")\n",
    "plt.title(\"Original vs Smoothed\", fontsize=14, \n",
    "          fontweight='bold')\n",
    "plt.grid(False)\n",
    "plt.legend()\n",
    "plt.show()"
   ]
  },
  {
   "cell_type": "code",
   "execution_count": null,
   "id": "149c4667-a3ce-4ab6-91d2-b6b41851f848",
   "metadata": {},
   "outputs": [],
   "source": [
    "# 56.a Compute the difference between original \n",
    "# and smoothed series to remove trend\n",
    "diff_original_smoothed = (\n",
    "    df_series['Energy_Consumption'] - \n",
    "    df_series['Energy_Consumption_Smoothed']\n",
    ")\n",
    "\n",
    "# 56.b Display first 20 records\n",
    "diff_original_smoothed.head(20)"
   ]
  },
  {
   "cell_type": "code",
   "execution_count": null,
   "id": "68366b43-6ebc-472e-81ef-8b9244dbb699",
   "metadata": {},
   "outputs": [],
   "source": [
    "# 56.c Remove NA values for stationarity test\n",
    "diff_original_smoothed.dropna(inplace=True)"
   ]
  },
  {
   "cell_type": "code",
   "execution_count": null,
   "id": "f8c1d962-f910-4677-8e28-0609c8d42432",
   "metadata": {},
   "outputs": [],
   "source": []
  },
  {
   "cell_type": "code",
   "execution_count": null,
   "id": "de3a3f03-38ed-409c-af62-9bc832ed7f52",
   "metadata": {},
   "outputs": [],
   "source": [
    "# 58.a Remove NaN and infinite values\n",
    "diff_original_smoothed = diff_original_smoothed.dropna()\n",
    "diff_original_smoothed = diff_original_smoothed[\n",
    "    ~np.isinf(diff_original_smoothed)\n",
    "]\n",
    "\n",
    "# 58.b Execute stationarity test\n",
    "test_stationarity(diff_original_smoothed)\n",
    "\n",
    "# 58.c Refined plot for rolling statistics\n",
    "plt.figure(figsize=(12, 6))\n",
    "\n",
    "# 58.d Plot original series\n",
    "plt.plot(diff_original_smoothed, color='royalblue', \n",
    "         linewidth=1.5, alpha=0.75, label='Original')\n",
    "\n",
    "# 58.e Compute rolling mean and standard deviation\n",
    "rolling_mean = diff_original_smoothed.rolling(\n",
    "    window=12).mean()\n",
    "rolling_std = diff_original_smoothed.rolling(\n",
    "    window=12).std()\n",
    "\n",
    "# 58.f Plot rolling mean and std deviation\n",
    "plt.plot(rolling_mean, color='red', linewidth=2, \n",
    "         label='Moving Average')\n",
    "plt.plot(rolling_std, color='black', linewidth=2, \n",
    "         linestyle='dashed', label='Std Deviation')\n",
    "\n",
    "# 58.g Customize visualization aesthetics\n",
    "plt.xticks(rotation=45)\n",
    "plt.xlabel(\"Year\")\n",
    "plt.ylabel(\"Differenced Values\")\n",
    "plt.title(\"Refined Rolling Statistics\", fontsize=14, \n",
    "          fontweight='bold')\n",
    "plt.legend()\n",
    "plt.grid(False)\n",
    "plt.show()"
   ]
  },
  {
   "cell_type": "markdown",
   "id": "b085c100-31d1-4ea1-8162-104e4577713e",
   "metadata": {},
   "source": [
    "##### Exponential Weighted Moving Average (EWMA)\n",
    "\n",
    "The simple moving average works but causes data loss due to the fixed 12-month window.\n",
    "\n",
    "An alternative is the exponential weighted moving average (EWMA), which gives more weight to recent values.\n",
    "\n",
    "Unlike the simple moving average, EWMA doesn’t require a fixed window size, and recent values influence the trend more strongly."
   ]
  },
  {
   "cell_type": "code",
   "execution_count": null,
   "id": "ec2ee668-1d0e-4bac-a726-e10573c91069",
   "metadata": {},
   "outputs": [],
   "source": [
    "# 59.a Apply exponential smoothing to the original series\n",
    "df_series['Energy_Consumption_Exp'] = (\n",
    "    df_series['Energy_Consumption']\n",
    "    .ewm(alpha=0.2, adjust=True)\n",
    "    .mean()\n",
    ")\n",
    "\n",
    "# 59.b Display the smoothed series\n",
    "df_series['Energy_Consumption_Exp'].head()"
   ]
  },
  {
   "cell_type": "code",
   "execution_count": null,
   "id": "3be424c5-9985-4b3a-95e9-50f3865c81b4",
   "metadata": {},
   "outputs": [],
   "source": [
    "# 59.c Plot original and exponentially smoothed series\n",
    "plt.figure(figsize=(12, 6))\n",
    "\n",
    "# 59.d Plot original series\n",
    "plt.plot(df_series.index, df_series['Energy_Consumption'], \n",
    "         color='gray', linewidth=1.5, alpha=0.6, \n",
    "         label='Original')\n",
    "\n",
    "# 59.e Plot exponentially smoothed series\n",
    "plt.plot(df_series.index, df_series['Energy_Consumption_Exp'], \n",
    "         color='magenta', linewidth=2, label='Exp Smoothing')\n",
    "\n",
    "# 59.f Customize visualization\n",
    "plt.xticks(rotation=45)\n",
    "plt.xlabel(\"Year\")\n",
    "plt.ylabel(\"Energy Consumption\")\n",
    "plt.title(\"Exponential Smoothing\", fontsize=14, \n",
    "          fontweight='bold')\n",
    "plt.legend()\n",
    "plt.grid(False)\n",
    "plt.show()"
   ]
  },
  {
   "cell_type": "code",
   "execution_count": null,
   "id": "8f3d6e2e-2eea-4252-bf96-482c072f8539",
   "metadata": {},
   "outputs": [],
   "source": [
    "# 60.a Compute the difference between original \n",
    "# and exponentially smoothed series\n",
    "diff_original_exp_smooth = (\n",
    "    df_series['Energy_Consumption'] - \n",
    "    df_series['Energy_Consumption_Exp']\n",
    ")\n",
    "\n",
    "# 60.b Remove NaN values before testing stationarity\n",
    "diff_original_exp_smooth.dropna(inplace=True)\n",
    "\n",
    "# 60.c Execute stationarity test\n",
    "test_stationarity(diff_original_exp_smooth)"
   ]
  },
  {
   "cell_type": "markdown",
   "id": "be4af734-5594-4c0e-abd0-1d312d6dcf4a",
   "metadata": {},
   "source": [
    "#### Differencing to Remove Trend"
   ]
  },
  {
   "cell_type": "code",
   "execution_count": null,
   "id": "1579bc6c-e200-406f-a7d6-1d2fa4b6aa07",
   "metadata": {},
   "outputs": [],
   "source": [
    "# 61.a Apply log transformation to normalize scale\n",
    "df_series['Energy_Consumption_Log'] = np.log(\n",
    "    df_series['Energy_Consumption']\n",
    ")\n",
    "\n",
    "# 61.b Plot log-transformed series\n",
    "plt.figure(figsize=(12, 6))\n",
    "plt.plot(df_series.index, \n",
    "         df_series['Energy_Consumption_Log'], \n",
    "         color='blue', linewidth=1.5, \n",
    "         label='Log Transformed')\n",
    "plt.xlabel(\"Year\")\n",
    "plt.ylabel(\"Log Energy Consumption\")\n",
    "plt.title(\"Log Transformation\", fontsize=14, \n",
    "          fontweight='bold')\n",
    "plt.legend()\n",
    "plt.grid(False)\n",
    "plt.show()"
   ]
  },
  {
   "cell_type": "code",
   "execution_count": null,
   "id": "3bc2b821-9d2c-468d-848e-2b734ac345f2",
   "metadata": {},
   "outputs": [],
   "source": [
    "# 62.a Compute first-order differencing \n",
    "df_series['Energy_Consumption_Diff1'] = (\n",
    "    df_series['Energy_Consumption_Log'] - \n",
    "    df_series['Energy_Consumption_Log'].shift()\n",
    ")\n",
    "\n",
    "# 62.b Plot first-order differenced series\n",
    "plt.figure(figsize=(12, 6))\n",
    "plt.plot(df_series.index, \n",
    "         df_series['Energy_Consumption_Diff1'], \n",
    "         color='red', linewidth=1.5, \n",
    "         label='First-Order Differencing')\n",
    "plt.xlabel(\"Year\")\n",
    "plt.ylabel(\"Differenced Values\")\n",
    "plt.title(\"First-Order Differencing\", fontsize=14, \n",
    "          fontweight='bold')\n",
    "plt.legend()\n",
    "plt.grid(False)\n",
    "plt.show()"
   ]
  },
  {
   "cell_type": "code",
   "execution_count": null,
   "id": "7af1d69d-ed17-458b-a864-5763e00beeda",
   "metadata": {},
   "outputs": [],
   "source": [
    "# 63.a Define function for custom differencing\n",
    "def diffFunc(dataset, interval=1):\n",
    "    # Initialize an empty list for differenced values\n",
    "    diff = []\n",
    "    \n",
    "    # Loop through the dataset, computing the difference\n",
    "    for i in range(interval, len(dataset)):\n",
    "        value = dataset[i] - dataset[i - interval]\n",
    "        diff.append(value)\n",
    "    \n",
    "    # Return the differenced series as a list\n",
    "    return diff\n",
    "\n",
    "# 63.b Apply differencing to the log-transformed series\n",
    "df_series['Energy_Diff2'] = apply_differencing(\n",
    "    df_series['Energy_Consumption_Log']\n",
    ")\n",
    "\n",
    "# 63.c Align index after differencing\n",
    "aligned_idx = df_series.index[-len(df_series['Energy_Diff2']):]\n",
    "\n",
    "# 63.d Plot second-order differenced series\n",
    "plt.figure(figsize=(12, 6))\n",
    "plt.plot(aligned_idx, df_series['Energy_Diff2'], \n",
    "         color='purple', lw=1.5, label='Diff Order 2')\n",
    "plt.xlabel(\"Year\")\n",
    "plt.ylabel(\"Differenced Values\")\n",
    "plt.title(\"Second-Order Differencing\", fontsize=14, \n",
    "          fontweight='bold')\n",
    "plt.legend()\n",
    "plt.grid(False)\n",
    "plt.show()"
   ]
  },
  {
   "cell_type": "code",
   "execution_count": null,
   "id": "73d90fdd-1484-4066-b8ba-88df5219030d",
   "metadata": {},
   "outputs": [],
   "source": [
    "# 64.a Convert differenced list to DataFrame\n",
    "df_series_diff2 = pd.DataFrame(\n",
    "    data=df_series['Energy_Consumption_Diff2'].dropna().values,  \n",
    "    index=df_series['Energy_Consumption_Diff2'].dropna().index, \n",
    "    columns=['Differenced_Series']\n",
    ")\n",
    "\n",
    "# 64.b Test stationarity after differencing\n",
    "test_stationarity(df_series_diff2)"
   ]
  },
  {
   "cell_type": "markdown",
   "id": "cea91ef6-76b1-4b68-9c77-abfaa0a95ee4",
   "metadata": {},
   "source": [
    "#### Differencing to Remove Seasonality"
   ]
  },
  {
   "cell_type": "code",
   "execution_count": null,
   "id": "8cd4aec4-6ab6-40d9-96ed-0f4b80a56930",
   "metadata": {},
   "outputs": [],
   "source": [
    "# 65.a Apply second differencing to remove seasonality\n",
    "df_series_diff3 = pd.DataFrame(\n",
    "    data=diffFunc(df_series['Energy_Consumption_Diff2'].dropna().values, interval=2),\n",
    "    index=df_series['Energy_Consumption_Diff2'].dropna().index[2:],  # Adjust index for second differencing\n",
    "    columns=['Differenced_Series']\n",
    ")\n",
    "\n",
    "# 65.b Plot the second differenced series\n",
    "plt.figure(figsize=(12, 6))\n",
    "plt.plot(df_series_diff3.index, df_series_diff3, color='green', lw=1.5, label='Second Differencing - Seasonality Removed')\n",
    "plt.xlabel(\"Year\")\n",
    "plt.ylabel(\"Differenced Values\")\n",
    "plt.title(\"Second Differencing for Seasonality\", fontsize=14, fontweight='bold')\n",
    "plt.legend()\n",
    "plt.grid(False)\n",
    "plt.show()"
   ]
  },
  {
   "cell_type": "code",
   "execution_count": null,
   "id": "27e59fa5-96be-4f83-bf77-7b9f7e1e321b",
   "metadata": {},
   "outputs": [],
   "source": [
    "# 66.a Convert second differenced list to DataFrame\n",
    "df_series_final = pd.DataFrame(\n",
    "    data=df_series_diff3.values, \n",
    "    index=df_series_diff3.index,  \n",
    "    columns=['Final_Differenced_Series']\n",
    ")\n",
    "\n",
    "# 66.b Test stationarity on the final differenced series\n",
    "test_stationarity(df_series_final)"
   ]
  }
 ],
 "metadata": {
  "kernelspec": {
   "display_name": "Python 3 (ipykernel)",
   "language": "python",
   "name": "python3"
  },
  "language_info": {
   "codemirror_mode": {
    "name": "ipython",
    "version": 3
   },
   "file_extension": ".py",
   "mimetype": "text/x-python",
   "name": "python",
   "nbconvert_exporter": "python",
   "pygments_lexer": "ipython3",
   "version": "3.12.4"
  }
 },
 "nbformat": 4,
 "nbformat_minor": 5
}
