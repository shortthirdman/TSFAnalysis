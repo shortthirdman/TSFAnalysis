{
 "cells": [
  {
   "cell_type": "markdown",
   "id": "1b6cfe4b-080c-49cb-9e72-f3adbfc3f35c",
   "metadata": {},
   "source": [
    "### A Unified Machine Learning Framework for Time Series Forecasting\n",
    "\n",
    "> Harness Diverse Algorithms to Improve Predictive Accuracy from Transactional Data\n",
    "> [Medium - Unified ML Framework for TSF](https://medium.com/data-science-collective/a-unified-machine-learning-framework-for-time-series-forecasting-7f3971216ec1)"
   ]
  },
  {
   "cell_type": "markdown",
   "id": "58799cc9-dbc4-40e0-a24c-aea04aed7627",
   "metadata": {},
   "source": [
    "Building time series forecasting and machine learning models takes different approaches since they handle data differently. But machine learning can still be a powerful tool for time series forecasting."
   ]
  },
  {
   "cell_type": "markdown",
   "id": "9878555f-25ef-4ca2-acd3-0e713b6cfc0a",
   "metadata": {},
   "source": [
    "#### Organize Data into Temporal Patterns\n",
    "\n",
    "- Turn the dependent variable (e.g., sales) into an independent one using lagged values.\n",
    "- Add seasonal dummies for patterns (e.g., months, weekdays, holidays).\n",
    "- Include trend variables to track long-term shifts.\n",
    "- Use recent data (e.g., last 100 days) to keep things relevant.\n",
    "- Transform the target variable as needed for better accuracy.\n",
    "\n",
    "#### Model Validation\n",
    "\n",
    "- Do not use random splits due to temporal dependencies.\n",
    "- Use backtesting to sequentially test the model, identifying when it works and fails within specific time ranges.\n",
    "\n",
    "#### Handling Outliers in Time Series\n",
    "\n",
    "Outliers act as disruptions in time series data, often caused by external events. Here’s how to manage them effectively:\n",
    "\n",
    "- Adjust for interventions by redefining variables (e.g., adding new slope variables).\n",
    "- Plan ahead for known events like promotions or holidays in forecasts.\n",
    "- Consider data relationships to smooth out sudden spikes."
   ]
  },
  {
   "attachments": {
    "7fea5de5-7b6f-4fa9-878c-15d3ecb8cd37.png": {
     "image/png": "[encoded data removed]"
    }
   },
   "cell_type": "markdown",
   "id": "8d71e811-30be-42fe-a614-d055b5fcc8bd",
   "metadata": {},
   "source": [
    "#### Generalized Machine Learning Framework\n",
    "\n",
    "The time series forecasting model with a generalized transformation of sales and restricted to a specific time range can be represented as:\n",
    "\n",
    "![image.png](attachment:7fea5de5-7b6f-4fa9-878c-15d3ecb8cd37.png)\n",
    "\n",
    "Where:\n",
    "\n",
    "- *y_t* is the forecasted transformed sales at time *t*, where *y_t = f(sales_t)* and *f(⋅)* is a transformation function (e.g., `log⁡(⋅)`, `sqrt()`, `logistic()`).\n",
    "- *G(⋅)* represents a machine learning algorithm (such as linear regression, LightGBM, XGBoost, or Random Forest).\n",
    "- *trend_t* is the trend component at time t.\n",
    "- *seasonal_t* is the dummy variable (e.g., weekday, month, weekend flag).\n",
    "- *event_t* is the event component (e.g., holidays, promotions, special events).\n",
    "- *lag_t* is the lagged sales values (e.g., sales at n = 1, 2, lag orders, etc.).\n",
    "- *mov_avg_t* is the moving average of sales over a specified window.\n",
    "- *ϵ_t* is the noise or error term."
   ]
  },
  {
   "cell_type": "markdown",
   "id": "c3508ce9-5651-4f0f-b6c5-432d21d3dc11",
   "metadata": {},
   "source": [
    "##### Import libraries"
   ]
  },
  {
   "cell_type": "code",
   "execution_count": null,
   "id": "9053aa40-4db8-4474-b3d4-3cd95035ec8a",
   "metadata": {},
   "outputs": [],
   "source": [
    "#!pip install -q numpy pandas matplotlib \n",
    "#!pip install -q statsmodels scikit-learn\n",
    "!pip install -q lightgbm xgboost"
   ]
  },
  {
   "cell_type": "code",
   "execution_count": null,
   "id": "0a243749-135b-40d0-ab92-44a189fe158b",
   "metadata": {},
   "outputs": [],
   "source": [
    "import pandas as pd\n",
    "import numpy as np\n",
    "import lightgbm as lgb\n",
    "import xgboost as xgb\n",
    "import matplotlib.pyplot as plt\n",
    "from pandas.tseries.holiday import USFederalHolidayCalendar\n",
    "from sklearn.metrics import mean_absolute_error, mean_squared_error\n",
    "\n",
    "from pandas.tseries.holiday import USFederalHolidayCalendar\n",
    "from sklearn.metrics import mean_absolute_error, mean_squared_error\n",
    "from sklearn.metrics import mean_absolute_percentage_error\n",
    "from sklearn.linear_model import LinearRegression\n",
    "from sklearn.ensemble import RandomForestRegressor\n",
    "from sklearn.model_selection import train_test_split, StratifiedKFold,KFold\n",
    "from statsmodels.tsa.statespace.sarimax import SARIMAX\n",
    "from statsmodels.tsa.seasonal import seasonal_decompose\n",
    "\n",
    "pd.set_option('display.max_rows', 500)\n",
    "pd.set_option('display.max_columns', 500)\n",
    "pd.set_option('display.width', 1000)\n",
    "\n",
    "# Set random seed for reproducibility\n",
    "np.random.seed(42)\n",
    "cal = USFederalHolidayCalendar()\n",
    "\n",
    "import warnings\n",
    "warnings.filterwarnings('ignore')"
   ]
  },
  {
   "cell_type": "markdown",
   "id": "02be4738-b911-4de0-814c-4b56f02cd338",
   "metadata": {},
   "source": [
    "##### Data Loading and Preprocessing"
   ]
  },
  {
   "cell_type": "code",
   "execution_count": null,
   "id": "2f7a982f-124e-424f-b41e-44b086820b1d",
   "metadata": {},
   "outputs": [],
   "source": [
    "file = '../../data/Electric_Production.csv'\n",
    "df = pd.read_csv(file)\n",
    "df.columns = ['date', 'sales']\n",
    "df = df.sort_values(['date'])"
   ]
  },
  {
   "cell_type": "code",
   "execution_count": null,
   "id": "c62a499a-68f4-477d-970c-a8e81d1378b9",
   "metadata": {},
   "outputs": [],
   "source": [
    "plt.figure(figsize=(14, 7))\n",
    "plt.plot(df['date'], df['sales'], label='Sales')\n",
    "plt.xlabel('Date')\n",
    "plt.ylabel('Sales')\n",
    "plt.title('Sales Data')\n",
    "plt.legend()\n",
    "plt.show()"
   ]
  },
  {
   "cell_type": "markdown",
   "id": "c4b64d7c-2ad6-4b6a-b0a1-358239362067",
   "metadata": {},
   "source": [
    "##### Feature Engineering"
   ]
  },
  {
   "cell_type": "code",
   "execution_count": null,
   "id": "d9db22ca-9725-4f9c-b816-01502c562109",
   "metadata": {},
   "outputs": [],
   "source": [
    "def create_date(df, x, lag_n):\n",
    "    df = df.copy()\n",
    "    df['date'] = pd.to_datetime(df['date'])\n",
    "    df['weekday'] = df['date'].dt.day_name()\n",
    "    df['month'] = df['date'].dt.month_name()\n",
    "\n",
    "    df = pd.get_dummies(df, columns=['weekday', 'month'], prefix='is')\n",
    "    \n",
    "    holidays = cal.holidays(start=df['date'].min(), end=df['date'].max())\n",
    "    df['is_holiday'] = df['date'].isin(holidays).astype(int)\n",
    "    \n",
    "    df['t'] = (df['date'] - df['date'].min()).dt.days\n",
    "    df['t_lg'] = np.log1p(df['t'])\n",
    "    \n",
    "    for lag in range(1, lag_n + 1):\n",
    "        df[f'lag{lag}'] = df[x].shift(lag)\n",
    "    \n",
    "    df['rolling_mean_7'] = df[x].rolling(window=7).mean()\n",
    "    df['rolling_std_7'] = df[x].rolling(window=7).std()\n",
    "    df['rolling_mean_30'] = df[x].rolling(window=30).mean()\n",
    "    df['rolling_std_30'] = df[x].rolling(window=30).std()\n",
    "    \n",
    "    df = df.fillna(0)\n",
    "    return df"
   ]
  },
  {
   "cell_type": "code",
   "execution_count": null,
   "id": "cbcef0c6-b9bc-4715-ab35-b03df4568031",
   "metadata": {},
   "outputs": [],
   "source": [
    "new_df = create_date(df, 'sales', 3)"
   ]
  },
  {
   "cell_type": "code",
   "execution_count": null,
   "id": "a76ffc10-0f10-47db-8eb7-c4dd8ec0d703",
   "metadata": {},
   "outputs": [],
   "source": [
    "## Original dataset \n",
    "df.head()"
   ]
  },
  {
   "cell_type": "code",
   "execution_count": null,
   "id": "757d021e-2020-479e-aa6e-7fca4720aa0b",
   "metadata": {},
   "outputs": [],
   "source": [
    "## New dataset with new date-based columns\n",
    "new_df.head()"
   ]
  },
  {
   "cell_type": "markdown",
   "id": "191f5e65-faa1-4e1a-98b0-78558ff9217e",
   "metadata": {},
   "source": [
    "##### Transformation Functions"
   ]
  },
  {
   "cell_type": "code",
   "execution_count": null,
   "id": "7ae711df-996f-4669-9ee5-e94304d0eb0f",
   "metadata": {},
   "outputs": [],
   "source": [
    "max_y = new_df['sales'].max()"
   ]
  },
  {
   "cell_type": "code",
   "execution_count": null,
   "id": "a652e9a3-5d6d-4a78-8ab8-801fe87a8439",
   "metadata": {},
   "outputs": [],
   "source": [
    "def transform_target(y, transform_fun):\n",
    "    if transform_fun == 'log':\n",
    "        return np.log(y)\n",
    "    elif transform_fun == 'sqrt':\n",
    "        return np.sqrt(y)\n",
    "    elif transform_fun == 'logistic':\n",
    "        return 1 / (1 + np.exp(-y/max_y))\n",
    "    else:\n",
    "        raise ValueError(\"Unsupported transformation function. Choose from 'log', 'sqrt', 'logistic'.\")\n",
    "\n",
    "def inverse_transform_target(y, transform_fun):\n",
    "    if transform_fun == 'log':\n",
    "        return np.exp(y)\n",
    "    elif transform_fun == 'sqrt':\n",
    "        return np.square(y)\n",
    "    elif transform_fun == 'logistic':\n",
    "        return -np.log((1 / y) - 1)*max_y\n",
    "    else:\n",
    "        raise ValueError(\"Unsupported transformation function. Choose from 'log', 'sqrt', 'logistic'.\")"
   ]
  },
  {
   "cell_type": "markdown",
   "id": "80a6c50e-afce-46c7-96ab-0f0b341d261c",
   "metadata": {},
   "source": [
    "##### Model Training"
   ]
  },
  {
   "cell_type": "code",
   "execution_count": null,
   "id": "99b325c0-9807-4077-9a83-837bc1fada27",
   "metadata": {},
   "outputs": [],
   "source": [
    "def train_ml_model(X_train, y_train, X_valid, y_valid, model_type='lightgbm', transform_fun=None):\n",
    "    if transform_fun is not None:\n",
    "        y_train = transform_target(y_train, transform_fun)\n",
    "        y_valid = transform_target(y_valid, transform_fun)\n",
    "    if model_type == 'lightgbm':\n",
    "        train_data = lgb.Dataset(X_train, label=y_train)\n",
    "        valid_data = lgb.Dataset(X_valid, label=y_valid)\n",
    "        params = {'objective': 'regression', 'metric': 'rmse', 'verbosity': -1}\n",
    "        model = lgb.train(params=params, train_set=train_data, valid_sets=[valid_data], num_boost_round=300, callbacks=[lgb.early_stopping(stopping_rounds=3)])\n",
    "    elif model_type == 'xgboost':\n",
    "        model = xgb.XGBRegressor(objective='reg:linear', n_estimators=150)\n",
    "        model.fit(X_train, y_train, early_stopping_rounds=10, eval_set=[(X_valid, y_valid)], verbose=False)\n",
    "    elif model_type == 'linear_regression':\n",
    "        model = LinearRegression()\n",
    "        model.fit(X_train, y_train)\n",
    "    elif model_type == 'random_forest':\n",
    "        model = RandomForestRegressor(n_estimators=150)\n",
    "        model.fit(X_train, y_train)\n",
    "    else:\n",
    "        raise ValueError(\"Unsupported model type. Choose from 'lightgbm', 'xgboost', 'linear_regression', 'random_forest'.\")\n",
    "    return model"
   ]
  },
  {
   "cell_type": "markdown",
   "id": "2aae863c-d76b-4a12-aca0-104baeaed622",
   "metadata": {},
   "source": [
    "##### Feature Selection"
   ]
  },
  {
   "cell_type": "code",
   "execution_count": null,
   "id": "2ff9452b-3f37-4a5a-a46e-2b5737c61395",
   "metadata": {},
   "outputs": [],
   "source": [
    "def getcorr_cut(Y, df, varnamelist, thresh):\n",
    "    corr = []\n",
    "    meanv = []\n",
    "    for vname in varnamelist: \n",
    "        X = df[vname]              \n",
    "        C = np.corrcoef(X, Y)      \n",
    "        beta=np.round(C[1, 0],4)\n",
    "        corr.append(beta) \n",
    "        avg = round(X.mean(), 6)\n",
    "        meanv.append(avg) \n",
    "    corrdf = pd.DataFrame({'varname': varnamelist, 'correlation': corr, 'mean': meanv})\n",
    "    corrdf['abscorr'] = np.abs(corrdf['correlation'])\n",
    "    corrdf.sort_values(['abscorr'], ascending=False, inplace=True)\n",
    "    corrdf['order'] = range(1,len(corrdf)+1)\n",
    "    corrdf['meanabs'] = np.abs(corrdf['mean']) \n",
    "    corrdf['abscorr'] = corrdf['abscorr'].fillna(0.0)\n",
    "    corrdf = corrdf[(corrdf.abscorr >= thresh)]\n",
    "    return corrdf"
   ]
  },
  {
   "cell_type": "code",
   "execution_count": null,
   "id": "ddd42fe3-d0d4-4c48-aaab-e29ee7785480",
   "metadata": {},
   "outputs": [],
   "source": [
    "df = new_df.copy()\n",
    "features = list(df.columns)\n",
    "rem = ['date','sales']\n",
    "for itv in rem:\n",
    "    features.remove(itv)"
   ]
  },
  {
   "cell_type": "code",
   "execution_count": null,
   "id": "a3ba1108-9f65-46a3-85b4-3b096c628f7c",
   "metadata": {},
   "outputs": [],
   "source": [
    "X = df[features]\n",
    "y = df['sales']\n",
    "cor_df = getcorr_cut(y, X, features, 0.05)\n",
    "features = list(cor_df.varname)\n",
    "X = df[features]\n",
    "X_train, X_valid, y_train, y_valid = train_test_split(X, y, test_size=0.2, shuffle=False)"
   ]
  },
  {
   "cell_type": "markdown",
   "id": "e586c8d3-06e2-48a0-b89d-78b3125d020a",
   "metadata": {},
   "source": [
    "##### Rolling Window Validation"
   ]
  },
  {
   "cell_type": "code",
   "execution_count": null,
   "id": "d53296b0-bce4-4fb7-865a-3b4a7ce88a24",
   "metadata": {},
   "outputs": [],
   "source": [
    "# Use backtesting to sequentially test the model\n",
    "def rolling_window_validation(DF, target_col, lag_n, train_size, test_size, features, model_type='lightgbm', transform_fun=None):\n",
    "    predictions = []\n",
    "    actuals = []\n",
    "    test_indices = []\n",
    "    # You can start testing from other points\n",
    "    for start in range(0, len(DF) - train_size - test_size + 1, test_size):\n",
    "        train = DF[start:start + train_size]\n",
    "        test = DF[start + train_size:start + train_size + test_size]\n",
    "        test_indices.extend(test.index)\n",
    "        X_train = train.drop(columns=[target_col, 'date'])\n",
    "        y_train = train[target_col]\n",
    "        X_test = test.drop(columns=[target_col, 'date'])\n",
    "        y_test = test[target_col]\n",
    "        X_train = X_train[features]\n",
    "        X_test = X_test[features]\n",
    "        model = train_ml_model(X_train, y_train, X_test, y_test, model_type=model_type, transform_fun=transform_fun)\n",
    "        y_pred = model.predict(X_test)\n",
    "        if transform_fun is not None:\n",
    "            y_pred = inverse_transform_target(y_pred, transform_fun)\n",
    "        predictions.extend(y_pred)\n",
    "        actuals.extend(y_test)\n",
    "\n",
    "    # Use MAPE % to represent the error term \n",
    "    mape_rt = mean_absolute_percentage_error(actuals, predictions)\n",
    "    return predictions, actuals, test_indices, model, mape_rt"
   ]
  },
  {
   "cell_type": "code",
   "execution_count": null,
   "id": "4e806a48-ada0-4720-ac4e-991b3ede26f1",
   "metadata": {},
   "outputs": [],
   "source": [
    "# Perform rolling window validation\n",
    "train_size = 340\n",
    "test_size = 50\n",
    "predictions, actuals, test_indices, model, mape_rt = rolling_window_validation(new_df,\n",
    "                                                                               'sales',\n",
    "                                                                               3,\n",
    "                                                                               train_size,\n",
    "                                                                               test_size,\n",
    "                                                                               features,\n",
    "                                                                               model_type='linear_regression',\n",
    "                                                                               transform_fun='logistic'\n",
    "                                                     )"
   ]
  },
  {
   "cell_type": "markdown",
   "id": "00962a8a-51de-427b-be38-aecff27d6667",
   "metadata": {},
   "source": [
    "##### Forecasting the Next Day’s Sales"
   ]
  },
  {
   "cell_type": "code",
   "execution_count": null,
   "id": "3be4563f-0a31-491a-8254-ef2da980b353",
   "metadata": {},
   "outputs": [],
   "source": [
    "def forecast_next_1_day(model, DF, features):\n",
    "    # Ensure the data frame is sorted by date\n",
    "    df = df.sort_values('date')\n",
    "\n",
    "    # Create the next day's date\n",
    "    next_date = df['date'].max() + pd.Timedelta(days=1)\n",
    "\n",
    "    # Create a new row for the next day's features\n",
    "    new_row = pd.DataFrame(index=[0])\n",
    "\n",
    "    # Fill the new row with feature values\n",
    "    new_row['date'] = next_date\n",
    "    new_row['t'] = (next_date - df['date'].min()).days\n",
    "    new_row['t_lg'] = np.log(new_row['t'] + 1)\n",
    "\n",
    "    # Calculate lag features\n",
    "    for lag in range(1, 4):  # Assuming lag_n=3 from the provided create_date function\n",
    "        new_row[f'lag{lag}'] = df['sales'].shift(lag).iloc[-1]\n",
    "\n",
    "    # Calculate rolling statistics\n",
    "    new_row['rolling_mean_7'] = df['sales'].rolling(window=7).mean().iloc[-1]\n",
    "    new_row['rolling_std_7'] = df['sales'].rolling(window=7).std().iloc[-1]\n",
    "    new_row['rolling_mean_30'] = df['sales'].rolling(window=30).mean().iloc[-1]\n",
    "    new_row['rolling_std_30'] = df['sales'].rolling(window=30).std().iloc[-1]\n",
    "\n",
    "    # Extract day of the week and month for dummy variables\n",
    "    new_row['weekday'] = next_date.day_name()\n",
    "    new_row['month'] = next_date.month_name()\n",
    "\n",
    "    dummies_wkd = pd.get_dummies(new_row['weekday'], prefix='is')\n",
    "    new_row = pd.concat([new_row, dummies_wkd], axis=1)\n",
    "\n",
    "    dummies_mon = pd.get_dummies(new_row['month'], prefix='is')\n",
    "    new_row = pd.concat([new_row, dummies_mon], axis=1)\n",
    "\n",
    "    holidays = cal.holidays(start=df['date'].min(), end=df['date'].max())\n",
    "    new_row['is_holiday'] = next_date in holidays\n",
    "\n",
    "    # Fill missing dummy variables with 0 if they do not exist\n",
    "    missing_columns = set(features) - set(new_row.columns)\n",
    "    for col in missing_columns:\n",
    "        new_row[col] = 0\n",
    "\n",
    "    # Ensure the new row contains only the required features\n",
    "    new_row = new_row[features + ['date']]\n",
    "\n",
    "    # Predict the sales for the next day\n",
    "    sales_prediction = model.predict(new_row[features])[0]\n",
    "\n",
    "    return sales_prediction, new_row"
   ]
  },
  {
   "cell_type": "markdown",
   "id": "f9ad3dfb-b68b-43ee-9c7b-6dc9132b30c2",
   "metadata": {},
   "source": [
    "##### Forecasting the Next 7 Days’ Sales"
   ]
  },
  {
   "cell_type": "code",
   "execution_count": null,
   "id": "efd322b2-b2e6-4464-9090-9292eb68723d",
   "metadata": {},
   "outputs": [],
   "source": [
    "def forecast_next_7_days(model, df, features):\n",
    "    predictions = []\n",
    "    for _ in range(7):\n",
    "        sales_prediction, new_row = forecast_next_1_day(model, df, features)\n",
    "        predictions.append(sales_prediction)\n",
    "\n",
    "        # Append the prediction to the DataFrame to update lags and rolling stats for the next iteration\n",
    "        new_row['sales'] = sales_prediction\n",
    "        df = pd.concat([df, new_row[['date', 'sales'] + features]], ignore_index=True)\n",
    "\n",
    "    return predictions, df"
   ]
  },
  {
   "cell_type": "markdown",
   "id": "0a50aad5-5477-4c78-9836-075577fe6bbd",
   "metadata": {},
   "source": [
    "##### Applying the Forecasting Function"
   ]
  },
  {
   "cell_type": "code",
   "execution_count": null,
   "id": "ba0d5068-a65b-4df2-9423-c27229a784f7",
   "metadata": {},
   "outputs": [],
   "source": [
    "# Predict the next 7 days' sales and update the DataFrame\n",
    "df = new_df.copy()\n",
    "seven_day_preds, updated_df = forecast_next_7_days(model, df, features)"
   ]
  },
  {
   "cell_type": "markdown",
   "id": "c313136e-c6c7-48aa-bd0b-d028ca785cc9",
   "metadata": {},
   "source": [
    "##### Integrating Predictions with Historical Data"
   ]
  },
  {
   "cell_type": "code",
   "execution_count": null,
   "id": "aa282915-37ed-48ce-9d9e-949423cb0603",
   "metadata": {},
   "outputs": [],
   "source": [
    "# Add the 'pred' column for testing data predictions\n",
    "new_df['pred'] = np.nan\n",
    "new_df.loc[test_indices, 'pred'] = predictions\n",
    "\n",
    "# Add the new forecasted sales data to new_DF\n",
    "forecast_dates = pd.date_range(start=new_df['date'].max() + pd.Timedelta(days=1), periods=7)\n",
    "forecast_df = pd.DataFrame({'date': forecast_dates, 'pred': seven_day_preds, 'sales': [np.nan] * 7})\n",
    "new_df = pd.concat([new_df, forecast_df], ignore_index=True)\n",
    "\n",
    "# Display the updated DataFrame with predictions\n",
    "print(new_df.tail(15))\n",
    "\n",
    "new_df[new_df.pred.isnull() == False][['date', 'sales', 'pred']].head(100)\n",
    "new_df[new_df.pred.isnull() == False][['date', 'sales', 'pred']].tail(20)"
   ]
  },
  {
   "cell_type": "markdown",
   "id": "341f4864-fc84-4bc5-b6d8-d6c298bf7420",
   "metadata": {},
   "source": [
    "##### Visualization"
   ]
  },
  {
   "cell_type": "code",
   "execution_count": null,
   "id": "d6b95e1b-b38d-4382-9697-fe5be77e2a44",
   "metadata": {},
   "outputs": [],
   "source": [
    "# Plot 1: Time series plot with training and testing data\n",
    "plt.figure(figsize=(14, 7))\n",
    "plt.scatter(new_DF['date'][:train_size], new_DF['sales'][:train_size], color='blue', label='Training Data', alpha=0.6)\n",
    "plt.scatter(new_DF['date'][train_size:train_size + test_size], new_DF['sales'][train_size:train_size + test_size], color='blue', label='Actual Testing Data', alpha=0.6)\n",
    "plt.scatter(new_DF['date'][train_size:train_size + test_size], new_DF['pred'][train_size:train_size + test_size], color='red', label='Predicted Testing Data', alpha=0.6)\n",
    "plt.xlabel('Date')\n",
    "plt.ylabel('Sales')\n",
    "plt.title('Training and Testing Data')\n",
    "plt.legend()\n",
    "plt.show()\n",
    "\n",
    "# Plot 2: Last 25 points in current data and next 7 days forecasted sales\n",
    "plt.figure(figsize=(14, 7))\n",
    "last_25_data = new_DF[-(25 + 7):-7]\n",
    "forecast_data = new_DF[-7:]\n",
    "\n",
    "plt.scatter(last_25_data['date'], last_25_data['sales'], color='blue', label='Last 25 Days', alpha=0.6)\n",
    "plt.plot(forecast_data['date'], forecast_data['pred'], color='red', linestyle='-', linewidth=1, marker='o', label='Next 7 Days Forecast', alpha=0.6)\n",
    "\n",
    "plt.xlabel('Date')\n",
    "plt.ylabel('Sales')\n",
    "plt.title('Last 25 Days and Next 7 Days Forecast')\n",
    "plt.legend()\n",
    "plt.show()"
   ]
  }
 ],
 "metadata": {
  "kernelspec": {
   "display_name": "Python 3 (ipykernel)",
   "language": "python",
   "name": "python3"
  },
  "language_info": {
   "codemirror_mode": {
    "name": "ipython",
    "version": 3
   },
   "file_extension": ".py",
   "mimetype": "text/x-python",
   "name": "python",
   "nbconvert_exporter": "python",
   "pygments_lexer": "ipython3",
   "version": "3.12.4"
  }
 },
 "nbformat": 4,
 "nbformat_minor": 5
}
