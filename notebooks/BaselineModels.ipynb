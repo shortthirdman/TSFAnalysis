{
 "cells": [
  {
   "cell_type": "markdown",
   "id": "d4f5782f-01f4-4179-bc78-ca344943e9f3",
   "metadata": {},
   "source": [
    "### [Baseline Models in Time Series](https://medium.com/data-science/baseline-models-in-time-series-c76d44a826b3)\n",
    "\n",
    "> Creating a baseline model before training the final model"
   ]
  },
  {
   "cell_type": "markdown",
   "id": "4a914925-0588-499b-8ba4-2ad5b7344290",
   "metadata": {},
   "source": [
    "#### What is a baseline model?\n",
    "\n",
    "A baseline model is a simple model used to create a benchmark, or a point of reference, upon which you will be building your final, more complex machine learning model.\n",
    "\n",
    "Data scientists create baseline models because:\n",
    "\n",
    "- Baseline models can give you a good idea of how a more complex model will perform.\n",
    "- If a baseline model does badly, it could be a sign of an issue with the data quality that needs addressing.\n",
    "- If a baseline model performs better than the final model, it could indicate issues with that algorithm, features, hyperparameters or other data preprocessing.\n",
    "- If the baseline and complex model perform more or less the same, this could indicate that the complex model needs more fine tuning (in features, architecture, or hyperparameters). It could also show that a more complex model isn’t necessary, and a simpler model will suffice."
   ]
  },
  {
   "cell_type": "markdown",
   "id": "3fd27c5e-3978-446c-a6d4-1b147ad3df4d",
   "metadata": {},
   "source": [
    "Typically, a baseline model is a statistical model, such as a moving average model. Alternatively, it is a simpler version of the target model — for example, if you will be training a Random Forest model, you can first train a Decision Tree model as a baseline."
   ]
  },
  {
   "cell_type": "code",
   "execution_count": null,
   "id": "adbbdffd-1c86-4ef9-8f0e-c0559fa490d0",
   "metadata": {},
   "outputs": [],
   "source": [
    "import warnings\n",
    "warnings.filterwarnings('ignore')"
   ]
  },
  {
   "cell_type": "code",
   "execution_count": null,
   "id": "efeddb41-8628-4b92-827d-fe25e05eea0a",
   "metadata": {},
   "outputs": [],
   "source": [
    "!pip install -q numpy pandas"
   ]
  },
  {
   "cell_type": "markdown",
   "id": "57c2e3ce-3b3a-4efc-a07b-564e5e604014",
   "metadata": {},
   "source": [
    "##### Naive forecast"
   ]
  },
  {
   "cell_type": "code",
   "execution_count": null,
   "id": "a77aaad7-2b17-41c9-beb1-8673b98bf465",
   "metadata": {},
   "outputs": [],
   "source": [
    "import numpy as np \n",
    "\n",
    "# define the split index\n",
    "split_time = 1000\n",
    "\n",
    "# separate the target array and \n",
    "# the time/date array\n",
    "series = np.array(df['TemperatureF'])\n",
    "time = np.array(df['Date'])\n",
    "\n",
    "# train test split\n",
    "time_train = time[:split_time]\n",
    "time_test = time[split_time:]\n",
    "\n",
    "series_train = series[:split_time]\n",
    "series_test = series[split_time:]\n",
    "\n",
    "# the naive forecast simply shifts the series by 1 \n",
    "naive_fcst = series[split_time - 1: -1]"
   ]
  },
  {
   "cell_type": "code",
   "execution_count": null,
   "id": "01fb9302-3883-46fa-a089-e0d40054a5a1",
   "metadata": {},
   "outputs": [],
   "source": [
    "import plotly.graph_objects as go\n",
    "\n",
    "fig = go.Figure([\n",
    "        go.Scatter(x=time_test, y=series_test, text='true', name='true'),\n",
    "        go.Scatter(x=time_test, y=naive_fcst, text='pred', name='pred'),\n",
    "    ])\n",
    "\n",
    "fig.show()"
   ]
  },
  {
   "cell_type": "code",
   "execution_count": null,
   "id": "596e1080-f6a8-4c82-8218-417a2be10d6b",
   "metadata": {},
   "outputs": [],
   "source": [
    "from sklearn.metrics import mean_squared_error\n",
    "\n",
    "mse = mean_squared_error(series_test,naive_fcst)\n",
    "rmse = mean_squared_error(series_test,naive_fcst,squared=False)\n",
    "\n",
    "print(\"MSE:\", mse)\n",
    "print(\"RMSE:\", rmse)"
   ]
  },
  {
   "cell_type": "markdown",
   "id": "d0d9147b-286a-48a0-bec4-ae2a34c60ffb",
   "metadata": {},
   "source": [
    "##### Moving average forecast\n",
    "A moving average (MA) baseline model predicts that the next data point is the average of the last n data points. "
   ]
  },
  {
   "cell_type": "code",
   "execution_count": null,
   "id": "df7e4a53-d721-4c50-b261-c20d4b284a56",
   "metadata": {},
   "outputs": [],
   "source": [
    "# Initialize a list\n",
    "forecast = []\n",
    "window_size = 30\n",
    "\n",
    "# Compute the moving average based on the window size\n",
    "for time in range(len(series) - window_size):\n",
    "    forecast.append(series[time:time + window_size].mean())\n",
    "\n",
    "# Convert to a numpy array\n",
    "forecast = np.array(forecast)"
   ]
  },
  {
   "cell_type": "code",
   "execution_count": null,
   "id": "b0c6eba7-11cd-4be2-af65-7035b1c4ea0c",
   "metadata": {},
   "outputs": [],
   "source": [
    "moving_avg = forecast[split_time - window_size:]"
   ]
  },
  {
   "cell_type": "code",
   "execution_count": null,
   "id": "cd4f694c-47bc-4c47-b23f-913d96af5086",
   "metadata": {},
   "outputs": [],
   "source": [
    "fig = go.Figure([\n",
    "        go.Scatter(x=time_test, y=series_test, text='true', name='true'),\n",
    "        go.Scatter(x=time_test, y=moving_avg, text='pred', name='pred'),\n",
    "    ])\n",
    "\n",
    "fig.show()"
   ]
  },
  {
   "cell_type": "code",
   "execution_count": null,
   "id": "e9633dea-a5bc-4e31-b91b-5591d7ac510d",
   "metadata": {},
   "outputs": [],
   "source": [
    "mse = mean_squared_error(series_test, moving_avg)\n",
    "rmse = mean_squared_error(series_test,moving_avg,squared=False)\n",
    "\n",
    "print(\"MSE:\", mse)\n",
    "print(\"RMSE:\", rmse)"
   ]
  }
 ],
 "metadata": {
  "kernelspec": {
   "display_name": "Python 3 (ipykernel)",
   "language": "python",
   "name": "python3"
  },
  "language_info": {
   "codemirror_mode": {
    "name": "ipython",
    "version": 3
   },
   "file_extension": ".py",
   "mimetype": "text/x-python",
   "name": "python",
   "nbconvert_exporter": "python",
   "pygments_lexer": "ipython3",
   "version": "3.12.4"
  }
 },
 "nbformat": 4,
 "nbformat_minor": 5
}
