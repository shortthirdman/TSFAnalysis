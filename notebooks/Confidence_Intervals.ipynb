{
 "cells": [
  {
   "cell_type": "markdown",
   "id": "e9c99e7e-81a4-45ca-84af-c9b9f037f316",
   "metadata": {},
   "source": [
    "### [Confidence Intervals for Time Series Forecasts](https://medium.com/@kylejones_47003/confidence-intervals-for-time-series-forecasts-95d2d3f81415)\n",
    "\n",
    "> Best practices for confidence intervals in time series analysis"
   ]
  },
  {
   "cell_type": "markdown",
   "id": "7dff57f4-44b4-4309-a190-7f0e041f4dc7",
   "metadata": {},
   "source": [
    "#### Computing Forecast Confidence Intervals"
   ]
  },
  {
   "cell_type": "code",
   "execution_count": null,
   "id": "daf7b615-08bf-4fa4-8b43-95813e8ce83a",
   "metadata": {},
   "outputs": [],
   "source": [
    "import warnings\n",
    "warnings.filterwarnings(\"ignore\")\n",
    "\n",
    "warnings.filterwarnings(\"ignore\", message=\"numpy.dtype size changed\")\n",
    "warnings.filterwarnings(\"ignore\", message=\"numpy.ufunc size changed\")"
   ]
  },
  {
   "cell_type": "code",
   "execution_count": null,
   "id": "5b9c6327-dad8-4d6d-ac11-e4c825918621",
   "metadata": {},
   "outputs": [],
   "source": [
    "!pip install -q pandas \"numpy<2.0.0\"\n",
    "!pip install -q matplotlib statsmodels\n",
    "!pip install -q scikit-learn pmdarima"
   ]
  },
  {
   "cell_type": "code",
   "execution_count": null,
   "id": "10dc1978-3a94-4596-b78e-be2dc8491d78",
   "metadata": {},
   "outputs": [],
   "source": [
    "import pandas as pd\n",
    "import numpy as np\n",
    "import matplotlib.pyplot as plt\n",
    "from statsmodels.tsa.arima.model import ARIMA\n",
    "from sklearn.preprocessing import StandardScaler\n",
    "from pmdarima import auto_arima"
   ]
  },
  {
   "cell_type": "code",
   "execution_count": null,
   "id": "7b8883ff-18cf-4ee4-b2da-41864ed34557",
   "metadata": {},
   "outputs": [],
   "source": [
    "print(f\"NumPy version: {np.__version__}\")\n",
    "print(f\"Pandas version: {pd.__version__}\")"
   ]
  },
  {
   "cell_type": "code",
   "execution_count": null,
   "id": "4634cd65-c749-4955-9b47-a7252c05afb2",
   "metadata": {},
   "outputs": [],
   "source": [
    "# Load and preprocess data\n",
    "def load_and_preprocess_data(url):\n",
    "    df = pd.read_csv(url)\n",
    "    df['date'] = pd.to_datetime(df['date'])\n",
    "    df.set_index('date', inplace=True)\n",
    "    df = df.resample('h').mean().asfreq('h')\n",
    "    df['values'] = df['values'].interpolate()\n",
    "\n",
    "    scaler = StandardScaler()\n",
    "    df['scaled_values'] = scaler.fit_transform(df[['values']])\n",
    "\n",
    "    return df, scaler\n",
    "\n",
    "# Forecast with ARIMA\n",
    "def forecast_with_confidence(data, order, steps=48, confidence=0.95):\n",
    "    model = ARIMA(data, order=order)\n",
    "    fitted_model = model.fit()\n",
    "    \n",
    "    forecast_result = fitted_model.get_forecast(steps=steps)\n",
    "    forecasts = forecast_result.predicted_mean\n",
    "    conf_int = forecast_result.conf_int(alpha=1 - confidence)\n",
    "\n",
    "    return forecasts, conf_int.iloc[:, 0], conf_int.iloc[:, 1]\n",
    "\n",
    "# Plot function\n",
    "def plot_forecast_with_ci(historical_data, test_data, forecasts, lower_ci, upper_ci, title=\"Forecast with Confidence Intervals\"):\n",
    "    plt.figure(figsize=(12, 6))\n",
    "    plt.plot(historical_data.index, historical_data.values, label='Historical Data', color='blue')\n",
    "    plt.plot(test_data.index, test_data, label='Actual Test Data', color='green')\n",
    "    \n",
    "    forecast_index = test_data.index\n",
    "    plt.plot(forecast_index, forecasts, 'r-', label='Forecast')\n",
    "    plt.fill_between(forecast_index, lower_ci, upper_ci, color='r', alpha=0.2, label='95% CI')\n",
    "\n",
    "    plt.axvline(x=test_data.index[0], color='black', linestyle='--', label=\"Test Data Start\")\n",
    "    plt.title(title)\n",
    "    plt.xlabel('Date')\n",
    "    plt.ylabel('Value')\n",
    "    plt.legend()\n",
    "    plt.xticks(rotation=45)\n",
    "    plt.tight_layout()\n",
    "    plt.savefig(f'{title}.png')\n",
    "    plt.show()"
   ]
  },
  {
   "cell_type": "code",
   "execution_count": null,
   "id": "6ddb2fa0-5b90-464a-9bca-62a7b32ec8de",
   "metadata": {},
   "outputs": [],
   "source": [
    "# Bootstrap-based forecast confidence intervals\n",
    "def bootstrap_forecast_ci(model_order, data, steps=48, n_bootstraps=100, confidence=0.95):\n",
    "    forecasts = []\n",
    "    \n",
    "    for i in range(n_bootstraps):\n",
    "        try:\n",
    "            bootstrap_sample = data.sample(n=len(data), replace=True).sort_index()\n",
    "            model = ARIMA(bootstrap_sample, order=model_order)\n",
    "            fitted_model = model.fit()\n",
    "            forecasts.append(fitted_model.forecast(steps=steps).values)\n",
    "        except Exception as e:\n",
    "            print(f\"Bootstrap iteration {i} failed: {e}\")\n",
    "\n",
    "    if not forecasts:\n",
    "        raise RuntimeError(\"All bootstrap iterations failed.\")\n",
    "\n",
    "    forecasts = np.array(forecasts)\n",
    "    lower_ci = np.percentile(forecasts, (1 - confidence) / 2 * 100, axis=0)\n",
    "    upper_ci = np.percentile(forecasts, (1 + confidence) / 2 * 100, axis=0)\n",
    "    mean_forecast = np.mean(forecasts, axis=0)\n",
    "\n",
    "    return mean_forecast, lower_ci, upper_ci"
   ]
  },
  {
   "cell_type": "code",
   "execution_count": null,
   "id": "f95e39e3-fbb5-49cb-96d7-6f8410c248c7",
   "metadata": {},
   "outputs": [],
   "source": [
    "# Main workflow\n",
    "url = \"https://raw.githubusercontent.com/kylejones200/time_series/refs/heads/main/ercot_load_data.csv\"\n",
    "df, scaler = load_and_preprocess_data(url)\n",
    "\n",
    "train_data = df['scaled_values'].iloc[:-48]\n",
    "test_data = df['scaled_values'].iloc[-48:]\n",
    "\n",
    "# Find best ARIMA order\n",
    "auto_model = auto_arima(train_data, seasonal=False, trace=True, suppress_warnings=True, stepwise=True)\n",
    "best_order = auto_model.order\n",
    "print(f\"Using ARIMA order: {best_order}\")\n",
    "\n",
    "# ARIMA forecast with confidence intervals\n",
    "forecasts, lower_ci, upper_ci = forecast_with_confidence(train_data, best_order, steps=48)\n",
    "\n",
    "# Bootstrapped confidence intervals\n",
    "boot_forecasts, boot_lower_ci, boot_upper_ci = bootstrap_forecast_ci(best_order, train_data, steps=48, n_bootstraps=50)\n",
    "\n",
    "def inverse_transform_and_flatten(scaler, data):\n",
    "    return scaler.inverse_transform(np.array(data).reshape(-1, 1)).flatten()\n",
    "\n",
    "\n",
    "forecasts, lower_ci, upper_ci = map(lambda x: inverse_transform_and_flatten(scaler, x), [forecasts, lower_ci, upper_ci])\n",
    "\n",
    "boot_forecasts, boot_lower_ci, boot_upper_ci = map(lambda x: inverse_transform_and_flatten(scaler, x), [boot_forecasts, boot_lower_ci, boot_upper_ci])\n",
    "\n",
    "test_data_original = inverse_transform_and_flatten(scaler, test_data)\n",
    "\n",
    "test_data_original_series = pd.Series(test_data_original, index=test_data.index)\n",
    "\n",
    "# Plot results\n",
    "plot_forecast_with_ci(df['values'], test_data_original_series, forecasts, lower_ci, upper_ci, title=\"ARIMA Forecast with Confidence Intervals\")\n",
    "plot_forecast_with_ci(df['values'], test_data_original_series, boot_forecasts, boot_lower_ci, boot_upper_ci, title=\"Bootstrapped Forecast with Confidence Intervals\")"
   ]
  },
  {
   "cell_type": "markdown",
   "id": "1742b29b-d878-499d-bf72-600e119a0746",
   "metadata": {},
   "source": [
    "##### Interpreting Confidence Bounds\n",
    "\n",
    "Confidence intervals require careful interpretation. A 95% confidence interval doesn’t mean we’re 95% sure the true value will fall within the interval. Instead, it means that if we repeated this process many times, about 95% of our intervals would contain the true value."
   ]
  }
 ],
 "metadata": {
  "kernelspec": {
   "display_name": "Python 3 (ipykernel)",
   "language": "python",
   "name": "python3"
  },
  "language_info": {
   "codemirror_mode": {
    "name": "ipython",
    "version": 3
   },
   "file_extension": ".py",
   "mimetype": "text/x-python",
   "name": "python",
   "nbconvert_exporter": "python",
   "pygments_lexer": "ipython3",
   "version": "3.12.4"
  }
 },
 "nbformat": 4,
 "nbformat_minor": 5
}
