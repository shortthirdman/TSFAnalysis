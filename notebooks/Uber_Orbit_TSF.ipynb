{
 "cells": [
  {
   "cell_type": "markdown",
   "id": "067d6f16-f3e1-4e29-ad53-5f5484ff97b5",
   "metadata": {},
   "source": [
    "### Bayesian Time Series Forecasting with Uber’s Orbit Package\n",
    "\n",
    "> An easy-to-follow guide of benchmarking Bayesian models to forecast univariate time series data\n",
    "\n",
    "[Uber's Orbit ML Package](https://medium.com/@alexzap922/bayesian-time-series-forecasting-in-python-with-the-ubers-orbit-package-1d3b7ff482dd)"
   ]
  },
  {
   "cell_type": "markdown",
   "id": "b3153a98-fbe5-4e90-9bbd-299d62f067e3",
   "metadata": {},
   "source": [
    "Orbit currently supports the the following forecasting models:\n",
    "\n",
    "- **Exponential Smoothing (ETS)**\n",
    "- **Damped Local Trend (DLT)**\n",
    "- **Local Global Trend (LGT)**\n",
    "\n",
    "Orbit has a wide range of applications in Uber’s marketing data science team for measurement, planning, and forecasting. The latter is an important part of planning future marketing budgets and the optimization of spending across different channels and regions."
   ]
  },
  {
   "cell_type": "code",
   "execution_count": null,
   "id": "89ae76b5-6382-4414-b019-c4729e3582ac",
   "metadata": {},
   "outputs": [],
   "source": [
    "!pip install -q numpy pandas matplotlib plotly\n",
    "!pip install -q arviz orbit-ml"
   ]
  },
  {
   "cell_type": "markdown",
   "id": "f5f63c4b-7e96-4b42-a769-7e4f49c33f9d",
   "metadata": {},
   "source": [
    "#### Grocery Store Sales Forecasting\n",
    "\n",
    "The `Kaggle` dataset will be used to predict sales for the thousands of product families sold at Favorita stores located in Ecuador."
   ]
  },
  {
   "cell_type": "code",
   "execution_count": null,
   "id": "f8d9f17c-45f4-4239-b864-f5ceb15d6757",
   "metadata": {},
   "outputs": [],
   "source": [
    "import orbit\n",
    "from orbit.models import DLT, ETS\n",
    "from orbit.diagnostics.backtest import BackTester\n",
    "import pandas as pd\n",
    "import numpy as np\n",
    "\n",
    "import warnings\n",
    "warnings.filterwarnings('ignore')"
   ]
  },
  {
   "cell_type": "code",
   "execution_count": null,
   "id": "7d113e74-1d54-465a-90dd-420867a95edb",
   "metadata": {},
   "outputs": [],
   "source": [
    "# Auxiliary WMAPE function\n",
    "def wmape(y_true, y_pred):\n",
    "    return np.abs(y_true - y_pred).sum() / np.abs(y_true).sum()\n",
    "\n",
    "path = 'train.csv'\n",
    "data = pd.read_csv(path, index_col='id', parse_dates=['date'])\n",
    "\n",
    "# General data structure\n",
    "data.tail()"
   ]
  },
  {
   "cell_type": "code",
   "execution_count": null,
   "id": "cc71544b-1dad-4fb7-9f1b-9ea0368b4143",
   "metadata": {},
   "outputs": [],
   "source": [
    "data.info()"
   ]
  },
  {
   "cell_type": "code",
   "execution_count": null,
   "id": "1e5e14d3-d85e-4a8b-9ab6-85517fe14374",
   "metadata": {},
   "outputs": [],
   "source": [
    "# Selecting store_nbr == 1\n",
    "data2 = data.loc[((data['store_nbr'] == 1)), ['date', 'unit_sales', 'onpromotion']]\n",
    "\n",
    "# Selecting training and validation sets\n",
    "dec25 = list()\n",
    "for year in range(2013,2017):\n",
    "    dec18 = data2.loc[(data2['date'] == f'{year}-12-18')]\n",
    "    dec25 += [{'date': pd.Timestamp(f'{year}-12-25'), 'unit_sales': dec18['unit_sales'].values[0], 'onpromotion': dec18['onpromotion'].values[0]}]\n",
    "data2 = pd.concat([data2, pd.DataFrame(dec25)], ignore_index=True).sort_values('date')\n",
    "\n",
    "\n",
    "train = data2.loc[data2['date'] < '2017-01-01']\n",
    "valid = data2.loc[(data2['date'] >= '2017-01-01') & (data2['date'] < '2017-04-01')]\n",
    "\n",
    "df_daily = train.set_index('date').resample('D')[\"unit_sales\"].sum().to_frame()\n",
    "\n",
    "df_daily.tail()"
   ]
  },
  {
   "cell_type": "markdown",
   "id": "eeb681bd-9d99-4654-a6b7-834b539ee1d8",
   "metadata": {},
   "source": [
    "##### Training the Bayesian Exponential Smoothing (ETS) model"
   ]
  },
  {
   "cell_type": "code",
   "execution_count": null,
   "id": "84a9b946-bca5-4fc4-bf1d-2cdd67a15e68",
   "metadata": {},
   "outputs": [],
   "source": [
    "ets = ETS(date_col='date', \n",
    "          response_col='unit_sales', \n",
    "          seasonality=7,\n",
    "          prediction_percentiles=[5, 95],\n",
    "          seed=1)\n",
    "\n",
    "ets.fit(df=df_daily)"
   ]
  },
  {
   "cell_type": "code",
   "execution_count": null,
   "id": "290e7ea8-3819-4eed-ad45-3fe39d0863a0",
   "metadata": {},
   "outputs": [],
   "source": [
    "p = ets.predict(df=df_daily)\n",
    "\n",
    "p.tail()"
   ]
  },
  {
   "cell_type": "code",
   "execution_count": null,
   "id": "af729ac1-01b3-466d-977f-97cd88470a64",
   "metadata": {},
   "outputs": [],
   "source": [
    "plt.figure(figsize=(15,6))\n",
    "plt.plot(p['date'],p['prediction'])\n",
    "plt.plot(p['date'],df_daily['unit_sales'])"
   ]
  },
  {
   "cell_type": "code",
   "execution_count": null,
   "id": "336e6151-0d7d-4d96-a45c-1f3f01e8a101",
   "metadata": {},
   "outputs": [],
   "source": [
    "forecast_df = pd.DataFrame({\"date\": pd.date_range(start='2017-01-01', end='2017-03-31', freq='D')})\n",
    "p = ets.predict(df=forecast_df)\n",
    "p = p.merge(valid, on='date', how='left')\n",
    "\n",
    "import matplotlib.pyplot as plt\n",
    "fig, ax = plt.subplots(1,1, figsize=(1280/96, 720/96))\n",
    "ax.plot(p['date'], p['sales'], label='actual')\n",
    "ax.plot(p['date'], p['prediction'], label='prediction')\n",
    "ax.fill_between(p['date'], p['prediction_5'], p['prediction_95'], alpha=0.2, color='orange', label='prediction percentiles')\n",
    "ax.set_title('Error, Trend, Seasonality (ETS)')\n",
    "ax.set_ylabel('Sales')\n",
    "ax.set_xlabel('Date')\n",
    "ax.legend()\n",
    "plt.show()"
   ]
  },
  {
   "cell_type": "markdown",
   "id": "41fabf79-2777-4a08-b8c5-dd7eaf621f67",
   "metadata": {},
   "source": [
    "##### Training the Damped Local Trend (DLT) Model"
   ]
  },
  {
   "cell_type": "code",
   "execution_count": null,
   "id": "764d0e98-0854-418f-85e5-cf938defd807",
   "metadata": {},
   "outputs": [],
   "source": [
    "scores = dict()\n",
    "for global_trend_option in ['linear', 'loglinear', 'flat', 'logistic']:\n",
    "    dlt = DLT(date_col='date', \n",
    "            response_col='sales', \n",
    "            seasonality=7,\n",
    "            prediction_percentiles=[5, 95],\n",
    "            regressor_col=['onpromotion'],\n",
    "            regressor_sign=['='],\n",
    "            regression_penalty='auto_ridge',\n",
    "            damped_factor=0.8,\n",
    "            seed=2, # if you get errors due to less than zero values, try a different seed\n",
    "            global_trend_option=global_trend_option,\n",
    "            verbose=False)\n",
    "    bt = BackTester(df=train, \n",
    "                    model=dlt, \n",
    "                    forecast_len=90,\n",
    "                    n_splits=5,\n",
    "                    window_type='rolling')\n",
    "\n",
    "    bt.fit_predict()\n",
    "    predicted_df = bt.get_predicted_df()\n",
    "\n",
    "scores[global_trend_option] = wmape(predicted_df['actual'], predicted_df['prediction'])\n",
    "\n",
    "print(\"Scores:\\n\", scores)\n",
    "\n",
    "best_global_trend_option = min(scores, key=scores.get)\n",
    "print(\"Best Global Trend: \", best_global_trend_option)"
   ]
  },
  {
   "cell_type": "code",
   "execution_count": null,
   "id": "3c0555d5-b19f-482a-8834-17730280f7d5",
   "metadata": {},
   "outputs": [],
   "source": [
    "df_daily = train.set_index('date').resample('D')[\"unit_sales\"].sum().to_frame()\n",
    "\n",
    "df_daily11 = train.set_index('date').resample('D')[\"onpromotion\"].sum()\n",
    "\n",
    "df_daily11.tail()"
   ]
  },
  {
   "cell_type": "code",
   "execution_count": null,
   "id": "a7029f11-9972-4767-8191-78319c4dcc3e",
   "metadata": {},
   "outputs": [],
   "source": [
    "df_daily1.set_index('date')\n",
    "\n",
    "df_daily1['date1'] = df_daily1['date']\n",
    "\n",
    "df_daily1.set_index('date1')\n",
    "\n",
    "df_daily = pd.concat([df_daily, df_daily1[\"onpromotion\"]], axis=1)\n",
    "\n",
    "df = df_daily.reset_index()\n",
    "\n",
    "df.tail()"
   ]
  },
  {
   "cell_type": "code",
   "execution_count": null,
   "id": "d603345a-b6c6-4bb2-8d54-b50d623b165a",
   "metadata": {},
   "outputs": [],
   "source": [
    "dlt = DLT(\n",
    "    response_col='unit_sales',\n",
    "    date_col='date',\n",
    "    estimator='stan-map',\n",
    "    seasonality=52,\n",
    "    seed=8888,\n",
    "    global_trend_option='logistic',\n",
    "    # for prediction uncertainty\n",
    "    n_bootstrap_draws=1000,\n",
    ")\n",
    "\n",
    "dlt.fit(df)\n",
    "p1 = dlt.predict(df)\n",
    "\n",
    "p1.tail()"
   ]
  },
  {
   "cell_type": "code",
   "execution_count": null,
   "id": "35872862-133b-4864-ae46-302e1b1c581f",
   "metadata": {},
   "outputs": [],
   "source": [
    "fig, ax = plt.subplots(1,1, figsize=(1280/96, 720/96))\n",
    "ax.plot(p1['date'], df['unit_sales'], label='actual')\n",
    "ax.plot(p1['date'], p1['prediction'], label='prediction')\n",
    "ax.fill_between(p1['date'], p1['prediction_5'], p1['prediction_95'], alpha=0.2, color='orange', label='prediction percentiles')\n",
    "ax.set_title('DLT Model')\n",
    "ax.set_ylabel('Sales')\n",
    "ax.set_xlabel('Date')\n",
    "ax.legend()\n",
    "plt.show()"
   ]
  },
  {
   "cell_type": "code",
   "execution_count": null,
   "id": "621b6948-a90f-42c2-a9d5-96ffcd328a3e",
   "metadata": {},
   "outputs": [],
   "source": [
    "dlt = DLT(date_col='date', \n",
    "        response_col='sales', \n",
    "        seasonality=7,\n",
    "        prediction_percentiles=[5, 95],\n",
    "        regressor_col=['onpromotion'],\n",
    "        regressor_sign=['='],\n",
    "        regression_penalty='auto_ridge',\n",
    "        damped_factor=0.8,\n",
    "        seed=2, # if you get errors due to less than zero values, try a different seed\n",
    "        global_trend_option=best_global_trend_option,\n",
    "        verbose=False)\n",
    "\n",
    "dlt.fit(df=train)\n",
    "\n",
    "p = dlt.predict(df=valid[['date', 'onpromotion']])\n",
    "p = p.merge(valid, on='date', how='left')\n",
    "\n",
    "print(wmape(p['sales'], p['prediction']))"
   ]
  },
  {
   "cell_type": "code",
   "execution_count": null,
   "id": "5e781a88-8d6a-4e11-93e4-dce193046c49",
   "metadata": {},
   "outputs": [],
   "source": [
    "fig, ax = plt.subplots(1,1, figsize=(1280/96, 720/96))\n",
    "ax.plot(p['date'], p['sales'], label='actual')\n",
    "ax.plot(p['date'], p['prediction'], label='prediction')\n",
    "ax.fill_between(p['date'], p['prediction_5'], p['prediction_95'], alpha=0.2, color='orange', label='prediction percentiles')\n",
    "ax.set_title('Damped Local Trend (DLT)')\n",
    "ax.set_ylabel('Sales')\n",
    "ax.set_xlabel('Date')\n",
    "ax.legend()\n",
    "plt.show()"
   ]
  },
  {
   "cell_type": "code",
   "execution_count": null,
   "id": "4d7edca0-dbe4-44a9-a6a6-ac415bf4c1a2",
   "metadata": {},
   "outputs": [],
   "source": [
    "from orbit.models import KTR\n",
    "\n",
    "ktr = KTR(date_col='date', \n",
    "        response_col='sales', \n",
    "        seasonality=[7, 28],\n",
    "        prediction_percentiles=[5, 95],\n",
    "        regressor_col=['onpromotion'],\n",
    "        seed=2,\n",
    "        verbose=False)\n",
    "\n",
    "ktr.fit(df=train)\n",
    "\n",
    "p = ktr.predict(df=valid[['date', 'onpromotion']])\n",
    "p = p.merge(valid, on='date', how='left')\n",
    "\n",
    "print(wmape(p['sales'], p['prediction']))"
   ]
  },
  {
   "cell_type": "markdown",
   "id": "41ad9027-db25-4207-8226-6824920bd477",
   "metadata": {},
   "source": [
    "#### US Unemployment Benefits"
   ]
  },
  {
   "cell_type": "code",
   "execution_count": null,
   "id": "0a49516b-c57e-486a-9fad-9d280983b41e",
   "metadata": {},
   "outputs": [],
   "source": [
    "import pandas as pd\n",
    "import numpy as np\n",
    "import orbit\n",
    "import matplotlib.pyplot as plt\n",
    "\n",
    "from orbit.utils.dataset import load_iclaims\n",
    "from orbit.diagnostics.plot import plot_predicted_data, plot_predicted_components\n",
    "from orbit.utils.plot import get_orbit_style\n",
    "plt.style.use(get_orbit_style())\n",
    "from orbit.models import ETS\n",
    "\n",
    "print(orbit.__version__)"
   ]
  },
  {
   "cell_type": "code",
   "execution_count": null,
   "id": "21dfa02b-17c8-462e-819d-b302fdb25dac",
   "metadata": {},
   "outputs": [],
   "source": [
    "raw_df = load_iclaims(transform=True)\n",
    "raw_df.dtypes"
   ]
  },
  {
   "cell_type": "code",
   "execution_count": null,
   "id": "77a1c5ce-62a0-4eba-afd9-7e63147902be",
   "metadata": {},
   "outputs": [],
   "source": [
    "df = raw_df.copy()\n",
    "df.head()"
   ]
  },
  {
   "cell_type": "code",
   "execution_count": null,
   "id": "4e850199-dded-443f-9a1d-a2c7bcbf2bb3",
   "metadata": {},
   "outputs": [],
   "source": [
    "test_size=52\n",
    "\n",
    "train_df=df[:-test_size]\n",
    "test_df=df[-test_size:]"
   ]
  },
  {
   "cell_type": "markdown",
   "id": "6d66f08e-ce59-4957-9e3e-d0ca14917e3d",
   "metadata": {},
   "source": [
    "##### Training the ETS Model"
   ]
  },
  {
   "cell_type": "code",
   "execution_count": null,
   "id": "be633d50-9f05-4d02-9f48-715000b0da1e",
   "metadata": {},
   "outputs": [],
   "source": [
    "ets = ETS(\n",
    "    response_col='claims',\n",
    "    date_col='week',\n",
    "    seasonality=52,\n",
    "    seed=2020,\n",
    "    estimator='stan-mcmc',\n",
    ")\n",
    "\n",
    "ets.fit(train_df)\n",
    "\n",
    "predicted_df = ets.predict(df=df, decompose=True)\n",
    "predicted_df"
   ]
  },
  {
   "cell_type": "code",
   "execution_count": null,
   "id": "0f3cf9ee-1b5e-471b-a73d-5f0fe0174758",
   "metadata": {},
   "outputs": [],
   "source": [
    "_ = plot_predicted_data(training_actual_df=train_df,\n",
    "                        predicted_df=predicted_df,\n",
    "                        date_col='week',\n",
    "                        actual_col='claims',\n",
    "                        test_actual_df=test_df)"
   ]
  },
  {
   "cell_type": "code",
   "execution_count": null,
   "id": "e63e3f06-7d24-4212-95c1-989163db36ff",
   "metadata": {},
   "outputs": [],
   "source": [
    "_ = plot_predicted_components(predicted_df=predicted_df, date_col='week')"
   ]
  },
  {
   "cell_type": "code",
   "execution_count": null,
   "id": "38f1e5d2-c717-416a-a245-4d8575dffe32",
   "metadata": {},
   "outputs": [],
   "source": [
    "posterior_samples = ets.get_posterior_samples()\n",
    "posterior_samples.keys()"
   ]
  },
  {
   "cell_type": "code",
   "execution_count": null,
   "id": "f6c74a9d-0de7-4ce7-a29b-abe82b0e41ba",
   "metadata": {},
   "outputs": [],
   "source": [
    "import arviz as az\n",
    "\n",
    "posterior_samples = ets.get_posterior_samples(permute=False)\n",
    "\n",
    "# example from https://arviz-devs.github.io/arviz/index.html\n",
    "az.style.use(\"arviz-darkgrid\")\n",
    "az.plot_pair(\n",
    "    posterior_samples,\n",
    "    var_names=[\"sea_sm\", \"lev_sm\", \"obs_sigma\"],\n",
    "    kind=\"kde\",\n",
    "    marginals=True,\n",
    "    textsize=15,\n",
    ")\n",
    "plt.show()"
   ]
  },
  {
   "cell_type": "markdown",
   "id": "a375552f-9883-458b-bc95-a464a2388962",
   "metadata": {},
   "source": [
    "##### Training the Local Global Trend (LGT) Model"
   ]
  },
  {
   "cell_type": "code",
   "execution_count": null,
   "id": "32165b01-f10a-4958-86c6-c7e18fb23b09",
   "metadata": {},
   "outputs": [],
   "source": [
    "import pandas as pd\n",
    "import numpy as np\n",
    "import matplotlib.pyplot as plt\n",
    "\n",
    "import orbit\n",
    "from orbit.models import LGT\n",
    "from orbit.diagnostics.plot import plot_predicted_data\n",
    "from orbit.diagnostics.plot import plot_predicted_components\n",
    "from orbit.utils.dataset import load_iclaims\n",
    "\n",
    "# load data\n",
    "df = load_iclaims()\n",
    "# define date and response column\n",
    "date_col = 'week'\n",
    "response_col = 'claims'\n",
    "df.dtypes\n",
    "test_size = 52\n",
    "train_df = df[:-test_size]\n",
    "test_df = df[-test_size:]\n",
    "\n",
    "lgt = LGT(\n",
    "    response_col=response_col,\n",
    "    date_col=date_col,\n",
    "    estimator='stan-map',\n",
    "    seasonality=52,\n",
    "    seed=8888,\n",
    ")\n",
    "\n",
    "lgt.fit(df=train_df)\n",
    "\n",
    "predicted_df = lgt.predict(df=test_df)\n",
    "\n",
    "_ = plot_predicted_data(training_actual_df=train_df, predicted_df=predicted_df,\n",
    "                        date_col=date_col, actual_col=response_col,\n",
    "                        test_actual_df=test_df, title='Prediction with LGTMAP Model')"
   ]
  },
  {
   "cell_type": "code",
   "execution_count": null,
   "id": "b48e2cef-7308-45ac-a339-be6f982577bf",
   "metadata": {},
   "outputs": [],
   "source": [
    "#LGT - MCMC\n",
    "lgt = LGT(\n",
    "    response_col=response_col,\n",
    "    date_col=date_col,\n",
    "    seasonality=52,\n",
    "    seed=8888,\n",
    ")"
   ]
  },
  {
   "cell_type": "code",
   "execution_count": null,
   "id": "528deeea-6661-4844-a752-b43e4807432e",
   "metadata": {},
   "outputs": [],
   "source": [
    "%%time\n",
    "lgt.fit(df=train_df)"
   ]
  },
  {
   "cell_type": "code",
   "execution_count": null,
   "id": "728e4c9b-3051-4c16-9bb3-1e1761b2b4d9",
   "metadata": {},
   "outputs": [],
   "source": [
    "predicted_df = lgt.predict(df=test_df)\n",
    "\n",
    "predicted_df.tail(5)"
   ]
  },
  {
   "cell_type": "code",
   "execution_count": null,
   "id": "540bbbc3-ab80-4885-9161-61a276d592f5",
   "metadata": {},
   "outputs": [],
   "source": [
    "lgt.get_posterior_samples().keys()"
   ]
  },
  {
   "cell_type": "code",
   "execution_count": null,
   "id": "e42b5c1b-9ceb-4f06-8614-4ecd839eeaf8",
   "metadata": {},
   "outputs": [],
   "source": [
    "_ = plot_predicted_data(training_actual_df=train_df, predicted_df=predicted_df,\n",
    "                    date_col=lgt.date_col, actual_col=lgt.response_col,\n",
    "                    test_actual_df=test_df, title='Prediction with LGTFull Model')"
   ]
  },
  {
   "cell_type": "code",
   "execution_count": null,
   "id": "fbfcd4e8-3006-42b0-9eb6-57c4ef102429",
   "metadata": {},
   "outputs": [],
   "source": [
    "#LGT - point estimate\n",
    "lgt = LGT(\n",
    "    response_col=response_col,\n",
    "    date_col=date_col,\n",
    "    seasonality=52,\n",
    "    seed=8888,\n",
    ")\n",
    "lgt.fit(df=train_df, point_method='mean')\n",
    "predicted_df = lgt.predict(df=test_df)"
   ]
  },
  {
   "cell_type": "code",
   "execution_count": null,
   "id": "75c7a9f0-4f96-40c7-87d2-aee673c0711e",
   "metadata": {},
   "outputs": [],
   "source": [
    "_ = plot_predicted_data(training_actual_df=train_df, predicted_df=predicted_df,\n",
    "                    date_col=lgt.date_col, actual_col=lgt.response_col,\n",
    "                    test_actual_df=test_df, title='Prediction with LGTAggregated Model')"
   ]
  },
  {
   "cell_type": "markdown",
   "id": "d172f281-d4fa-42e1-a95a-7276da7f227e",
   "metadata": {},
   "source": [
    "##### Training the DLT Regression Model"
   ]
  },
  {
   "cell_type": "code",
   "execution_count": null,
   "id": "50601451-59e6-44a0-b48e-fd73f573b201",
   "metadata": {},
   "outputs": [],
   "source": [
    "response_col = 'claims'\n",
    "date_col = 'week'\n",
    "regressor_col = ['trend.unemploy', 'trend.filling', 'trend.job']"
   ]
  },
  {
   "cell_type": "code",
   "execution_count": null,
   "id": "4e5ffd16-46b6-4837-b420-70adb013a875",
   "metadata": {},
   "outputs": [],
   "source": [
    "%matplotlib inline\n",
    "\n",
    "import pandas as pd\n",
    "import numpy as np\n",
    "import matplotlib.pyplot as plt\n",
    "\n",
    "import orbit\n",
    "from orbit.models import DLT\n",
    "from orbit.diagnostics.plot import plot_predicted_data,plot_predicted_components\n",
    "from orbit.utils.dataset import load_iclaims\n",
    "\n",
    "import warnings\n",
    "warnings.filterwarnings('ignore')\n",
    "print(orbit.__version__)"
   ]
  },
  {
   "cell_type": "code",
   "execution_count": null,
   "id": "8e39c07a-d3fc-4005-95e9-50c493d5851a",
   "metadata": {},
   "outputs": [],
   "source": [
    "# load log-transformed data\n",
    "df = load_iclaims()\n",
    "# train/test split\n",
    "train_df = df[df['week'] < '2017-01-01']\n",
    "test_df = df[df['week'] >= '2017-01-01']\n",
    "# regression parameters\n",
    "response_col = 'claims'\n",
    "date_col = 'week'\n",
    "regressor_col = ['trend.unemploy', 'trend.filling', 'trend.job']"
   ]
  },
  {
   "cell_type": "code",
   "execution_count": null,
   "id": "bee44484-f4c0-4916-b565-54ff11718519",
   "metadata": {},
   "outputs": [],
   "source": [
    "# training the model\n",
    "dlt = DLT(\n",
    "    response_col=response_col,\n",
    "    regressor_col=regressor_col,\n",
    "    date_col=date_col,\n",
    "    seasonality=52,\n",
    "    prediction_percentiles=[5, 95],\n",
    ")\n",
    "\n",
    "dlt.fit(train_df)"
   ]
  },
  {
   "cell_type": "code",
   "execution_count": null,
   "id": "29a34660-bdf8-4f7e-a055-f648ce37b93c",
   "metadata": {},
   "outputs": [],
   "source": [
    "# making in-sample predictions of the training set\n",
    "predicted_df = dlt.predict(df=train_df, decompose=True)\n",
    "\n",
    "# plotting in-sample predictions of the training set\n",
    "_ = plot_predicted_data(train_df, predicted_df,\n",
    "                        date_col=dlt.date_col, actual_col=dlt.response_col)"
   ]
  },
  {
   "cell_type": "code",
   "execution_count": null,
   "id": "729a8d4d-a944-4555-9421-e80cb16779fa",
   "metadata": {},
   "outputs": [],
   "source": [
    "predicted_df = dlt.predict(df=test_df, decompose=True)\n",
    "\n",
    "_ = plot_predicted_data(training_actual_df=train_df, predicted_df=predicted_df,\n",
    "                        date_col=dlt.date_col, actual_col=dlt.response_col,\n",
    "                        test_actual_df=test_df)"
   ]
  },
  {
   "cell_type": "code",
   "execution_count": null,
   "id": "eb7ef170-7eaf-4187-aba3-5127bbb9e047",
   "metadata": {},
   "outputs": [],
   "source": [
    "predicted_df = dlt.predict(df=train_df, decompose=True)\n",
    "\n",
    "_ = plot_predicted_components(predicted_df, date_col)"
   ]
  },
  {
   "cell_type": "code",
   "execution_count": null,
   "id": "f68cdbbd-a26f-4a5d-8795-6e55479aaadf",
   "metadata": {},
   "outputs": [],
   "source": [
    "_ = plot_predicted_components(predicted_df, date_col,\n",
    "                              plot_components=['prediction', 'trend', 'seasonality', 'regression'])"
   ]
  }
 ],
 "metadata": {
  "kernelspec": {
   "display_name": "Python 3 (ipykernel)",
   "language": "python",
   "name": "python3"
  },
  "language_info": {
   "codemirror_mode": {
    "name": "ipython",
    "version": 3
   },
   "file_extension": ".py",
   "mimetype": "text/x-python",
   "name": "python",
   "nbconvert_exporter": "python",
   "pygments_lexer": "ipython3",
   "version": "3.12.4"
  }
 },
 "nbformat": 4,
 "nbformat_minor": 5
}
