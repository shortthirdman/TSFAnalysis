{
 "cells": [
  {
   "cell_type": "markdown",
   "id": "a42c4b83-f2f1-4893-aed6-24a8aab8eaaf",
   "metadata": {},
   "source": [
    "### [Time Series Forecasting for Retail Sales](https://medium.com/@kylejones_47003/time-series-forecasting-for-retail-sales-with-mlp-arima-kan-and-chronos-258abbbf4779)\n",
    "\n",
    "Retail forecasting is high-stakes. Misses mean stockouts, markdowns, or investor panic. ARIMA is the legacy tool: fast, interpretable, consistent. Newer models like LSTMs and KANs claim to capture nonlinearity. Transformers promise everything."
   ]
  },
  {
   "cell_type": "code",
   "execution_count": 1,
   "id": "e8069fb4-8f09-4810-936f-aa1fa98e5190",
   "metadata": {},
   "outputs": [],
   "source": [
    "!pip install -q pandas pandas-datareader numpy matplotlib seaborn\n",
    "!pip install -q scikit-learn torch statsmodels pykan chronos-forecasting"
   ]
  },
  {
   "cell_type": "code",
   "execution_count": 2,
   "id": "0dd368a7-a94a-4c0e-9d42-3ba2396c3479",
   "metadata": {},
   "outputs": [],
   "source": [
    "import warnings\n",
    "warnings.filterwarnings('ignore')"
   ]
  },
  {
   "cell_type": "code",
   "execution_count": 3,
   "id": "a9bfef2a-c4ea-4f8d-bb52-4188c64f5fd9",
   "metadata": {},
   "outputs": [],
   "source": [
    "import pandas as pd\n",
    "import numpy as np\n",
    "import torch\n",
    "import torch.nn as nn\n",
    "import datetime\n",
    "import random\n",
    "import matplotlib.pyplot as plt\n",
    "from matplotlib.dates import DateFormatter\n",
    "from statsmodels.tsa.arima.model import ARIMA\n",
    "from pandas_datareader import data as web\n",
    "from sklearn.metrics import mean_squared_error, mean_absolute_error\n",
    "from kan import KAN\n",
    "from chronos import ChronosPipeline\n",
    "import time"
   ]
  },
  {
   "cell_type": "code",
   "execution_count": 4,
   "id": "9ee6c614-ea11-4cee-8b3d-f84cf50f8489",
   "metadata": {},
   "outputs": [
    {
     "data": {
      "text/plain": [
       "<torch._C.Generator at 0x217bd8ddb70>"
      ]
     },
     "execution_count": 4,
     "metadata": {},
     "output_type": "execute_result"
    }
   ],
   "source": [
    "# Set seed for reproducibility\n",
    "seed = 42\n",
    "random.seed(seed)\n",
    "np.random.seed(seed)\n",
    "torch.manual_seed(seed)"
   ]
  },
  {
   "cell_type": "code",
   "execution_count": 5,
   "id": "af9678c7-06cc-4beb-b9ae-43f993d51ad4",
   "metadata": {},
   "outputs": [],
   "source": [
    "# Unified config\n",
    "prediction_length = 12\n",
    "window = 24"
   ]
  },
  {
   "cell_type": "code",
   "execution_count": 6,
   "id": "3df2ba0a-7cfe-4b15-8a34-9f85633ff185",
   "metadata": {},
   "outputs": [],
   "source": [
    "# Load and preprocess data\n",
    "start = datetime.datetime(2000, 1, 1)\n",
    "end = datetime.datetime(2025, 4, 1)\n",
    "series = web.DataReader(\"RSAFS\", \"fred\", start, end).dropna()[\"RSAFS\"]\n",
    "series.index.freq = \"MS\"\n",
    "\n",
    "mean_val, std_val = series.mean(), series.std()\n",
    "norm_series = (series - mean_val) / std_val"
   ]
  },
  {
   "cell_type": "code",
   "execution_count": 7,
   "id": "c968a1cf-29d2-4a80-91eb-cf392c71a631",
   "metadata": {},
   "outputs": [],
   "source": [
    "def make_lagged(series, window):\n",
    "    X, y = [], []\n",
    "    for i in range(len(series) - window):\n",
    "        X.append(series.iloc[i:i + window].values)\n",
    "        y.append(series.iloc[i + window])\n",
    "    return np.array(X), np.array(y)"
   ]
  },
  {
   "cell_type": "code",
   "execution_count": 8,
   "id": "06399869-9baa-4650-9d50-40fc025047a8",
   "metadata": {},
   "outputs": [],
   "source": [
    "# Split\n",
    "split = series.index[-(window + prediction_length)]\n",
    "train_raw, test_raw = series[series.index <= split], series[series.index > split]\n",
    "train_norm, test_norm = norm_series[norm_series.index <= split], norm_series[norm_series.index > split]\n",
    "\n",
    "X_train, y_train = make_lagged(train_norm, window)\n",
    "X_test, y_test = make_lagged(test_norm, window)\n",
    "\n",
    "X_train_t = torch.tensor(X_train, dtype=torch.float32)\n",
    "y_train_t = torch.tensor(y_train, dtype=torch.float32).unsqueeze(1)\n",
    "X_test_t = torch.tensor(X_test, dtype=torch.float32)"
   ]
  },
  {
   "cell_type": "code",
   "execution_count": 9,
   "id": "539cb9b6-c188-426b-8d73-72fbfcc95e30",
   "metadata": {},
   "outputs": [],
   "source": [
    "# ARIMA\n",
    "start_arima = time.time()\n",
    "arima = ARIMA(train_raw, order=(5, 1, 0)).fit()\n",
    "pred_arima = arima.forecast(steps=prediction_length)\n",
    "pred_arima.index = test_raw.index[:prediction_length]\n",
    "arima_time = time.time() - start_arima"
   ]
  },
  {
   "cell_type": "code",
   "execution_count": 10,
   "id": "5653c986-f705-4228-936b-353d4fcc2e8d",
   "metadata": {},
   "outputs": [],
   "source": [
    "# MLP\n",
    "class MLP(nn.Module):\n",
    "    def __init__(self, dim):\n",
    "        super().__init__();\n",
    "        self.net = nn.Sequential(nn.Linear(dim, 64), nn.Tanh(), nn.Dropout(0.2), nn.Linear(64, 1))\n",
    "    \n",
    "    def forward(self, x):\n",
    "        return self.net(x)\n",
    "\n",
    "mlp = MLP(window)\n",
    "opt = torch.optim.Adam(mlp.parameters(), lr=0.01)\n",
    "loss_fn = nn.MSELoss()\n",
    "\n",
    "start_mlp = time.time()\n",
    "for _ in range(200):\n",
    "    mlp.train();\n",
    "    opt.zero_grad()\n",
    "    loss = loss_fn(mlp(X_train_t), y_train_t);\n",
    "    loss.backward();\n",
    "    opt.step()\n",
    "\n",
    "mlp_time = time.time() - start_mlp\n",
    "\n",
    "mlp.eval();\n",
    "pred_mlp = mlp(X_test_t).squeeze().detach().numpy()"
   ]
  },
  {
   "cell_type": "code",
   "execution_count": 11,
   "id": "4bb6d9b4-6cb4-4c02-83a0-e627dd0536e8",
   "metadata": {},
   "outputs": [
    {
     "name": "stdout",
     "output_type": "stream",
     "text": [
      "checkpoint directory created: ./model\n",
      "saving model version 0.0\n"
     ]
    }
   ],
   "source": [
    "# KAN\n",
    "kan = KAN([window, 32, 1], grid=3, k=2)\n",
    "opt_kan = torch.optim.Adam(kan.parameters(), lr=0.01)\n",
    "\n",
    "start_kan = time.time()\n",
    "for _ in range(200):\n",
    "    kan.train();\n",
    "    opt_kan.zero_grad()\n",
    "    loss = loss_fn(kan(X_train_t), y_train_t);\n",
    "    loss.backward(); opt_kan.step()\n",
    "\n",
    "kan_time = time.time() - start_kan\n",
    "\n",
    "kan.eval(); pred_kan = kan(X_test_t).squeeze().detach().numpy()"
   ]
  },
  {
   "cell_type": "code",
   "execution_count": 12,
   "id": "605070d4-309a-4792-bdff-855fb987c787",
   "metadata": {},
   "outputs": [],
   "source": [
    "# LSTM\n",
    "class LSTM(nn.Module):\n",
    "    def __init__(self, dim, h=32):\n",
    "        super().__init__()\n",
    "        self.lstm = nn.LSTM(dim, h, batch_first=True)\n",
    "        self.fc = nn.Linear(h, 1)\n",
    "\n",
    "    def forward(self, x):\n",
    "        return self.fc(self.lstm(x)[0][:, -1])\n",
    "\n",
    "X_train_lstm = X_train_t.unsqueeze(-1)\n",
    "X_test_lstm = X_test_t.unsqueeze(-1)\n",
    "lstm = LSTM(1)\n",
    "opt_lstm = torch.optim.Adam(lstm.parameters(), lr=0.01)\n",
    "\n",
    "start_lstm = time.time()\n",
    "for _ in range(200):\n",
    "    lstm.train()\n",
    "    opt_lstm.zero_grad()\n",
    "    loss = loss_fn(lstm(X_train_lstm), y_train_t)\n",
    "    loss.backward()\n",
    "    opt_lstm.step()\n",
    "\n",
    "lstm_time = time.time() - start_lstm\n",
    "\n",
    "lstm.eval(); pred_lstm = lstm(X_test_lstm).squeeze().detach().numpy()"
   ]
  },
  {
   "cell_type": "code",
   "execution_count": 13,
   "id": "a5e6bc1a-3921-4121-8e9d-58722d6412ea",
   "metadata": {},
   "outputs": [],
   "source": [
    "# Inverse transform\n",
    "y_test_actual = y_test * std_val + mean_val\n",
    "valid_length = min(len(y_test_actual), prediction_length)\n",
    "y_actual = y_test_actual[-valid_length:]\n",
    "pred_mlp = pred_mlp[-valid_length:] * std_val + mean_val\n",
    "pred_kan = pred_kan[-valid_length:] * std_val + mean_val\n",
    "pred_lstm = pred_lstm[-valid_length:] * std_val + mean_val"
   ]
  },
  {
   "cell_type": "code",
   "execution_count": 14,
   "id": "8d1badf5-3803-40f0-bfce-e8a01cf7ce2c",
   "metadata": {},
   "outputs": [],
   "source": [
    "# Chronos T5\n",
    "device = \"cuda\" if torch.cuda.is_available() else \"cpu\"\n",
    "chronos_pipe = ChronosPipeline.from_pretrained(\n",
    "    \"amazon/chronos-t5-large\",\n",
    "    device_map=device,\n",
    "    torch_dtype=torch.bfloat16 if torch.cuda.is_available() else torch.float32\n",
    ")\n",
    "context = torch.tensor(series.loc[:split].values, dtype=torch.float32)\n",
    "forecast = chronos_pipe.predict(context, prediction_length=prediction_length)\n",
    "pred_chronos = forecast[0].median(dim=0).values.numpy()\n",
    "chronos_time = 0.0\n",
    "pred_chronos = pred_chronos[-valid_length:]"
   ]
  },
  {
   "cell_type": "code",
   "execution_count": 15,
   "id": "d142da71-1bc7-4267-b3e3-779ce11f4422",
   "metadata": {},
   "outputs": [],
   "source": [
    "# Metrics\n",
    "def mape(y, yhat):\n",
    "    return np.mean(np.abs((y - yhat) / (y + 1e-10))) * 100\n",
    "\n",
    "def evaluate(y, yhat):\n",
    "    return (mean_squared_error(y, yhat) / 1e6, mean_absolute_error(y, yhat) / 1e6, mape(y, yhat))"
   ]
  },
  {
   "cell_type": "code",
   "execution_count": 16,
   "id": "81294eb3-0dde-46e0-ae5f-53fe8a50ece8",
   "metadata": {},
   "outputs": [],
   "source": [
    "models = [\"ARIMA\", \"MLP\", \"KAN\", \"LSTM\", \"Chronos T5\"]\n",
    "preds = [\n",
    "    pred_arima[:valid_length],\n",
    "    pred_mlp,\n",
    "    pred_kan,\n",
    "    pred_lstm,\n",
    "    pred_chronos\n",
    "]\n",
    "\n",
    "times = [arima_time, mlp_time, kan_time, lstm_time, chronos_time]\n",
    "results = pd.DataFrame([evaluate(y_actual, p) + (t,) for p, t in zip(preds, times)],\n",
    "                       columns=[\"RMSE (M USD)\", \"MAE (M USD)\", \"MAPE (%)\", \"Train Time (s)\"],\n",
    "                       index=models)"
   ]
  },
  {
   "cell_type": "code",
   "execution_count": 17,
   "id": "f04ae5b4-fbb1-4c68-8961-aa5ca56477ba",
   "metadata": {},
   "outputs": [],
   "source": [
    "# Plot\n",
    "# Define forecast boundary and zoom range\n",
    "prediction_start_date = series.index[-prediction_length]\n",
    "zoom_start_date = series.index[-24]  \n",
    "series_zoom = series[series.index >= zoom_start_date]\n",
    "\n",
    "# Get valid forecast window (based on shortest forecastable length)\n",
    "valid_length = min(\n",
    "    prediction_length,\n",
    "    len(pred_arima),\n",
    "    len(pred_mlp),\n",
    "    len(pred_kan),\n",
    "    len(pred_lstm),\n",
    "    len(pred_chronos)\n",
    ")"
   ]
  },
  {
   "cell_type": "code",
   "execution_count": 18,
   "id": "05011d60-bdfb-4226-bfdc-2191656ba3ea",
   "metadata": {},
   "outputs": [],
   "source": [
    "# Plot\n",
    "# Define forecast boundary and zoom range\n",
    "prediction_start_date = series.index[-prediction_length]\n",
    "zoom_start_date = series.index[-24]  \n",
    "series_zoom = series[series.index >= zoom_start_date]\n",
    "\n",
    "# Get valid forecast window (based on shortest forecastable length)\n",
    "valid_length = min(\n",
    "    prediction_length,\n",
    "    len(pred_arima),\n",
    "    len(pred_mlp),\n",
    "    len(pred_kan),\n",
    "    len(pred_lstm),\n",
    "    len(pred_chronos)\n",
    ")\n",
    "\n",
    "forecast_index = series.index[series.index >= prediction_start_date][:valid_length]\n",
    "end_date = forecast_index[-1]"
   ]
  },
  {
   "cell_type": "code",
   "execution_count": 19,
   "id": "79466214-2a08-4728-b6cd-42f475cee7dc",
   "metadata": {},
   "outputs": [
    {
     "data": {
      "image/png": "[encoded data removed]",
      "text/plain": [
       "<Figure size 1200x500 with 1 Axes>"
      ]
     },
     "metadata": {},
     "output_type": "display_data"
    },
    {
     "name": "stdout",
     "output_type": "stream",
     "text": [
      "        Model  RMSE (M USD)  MAE (M USD)  MAPE (%)  Train Time (s)\n",
      "0       ARIMA   2288.324457     0.046770  6.607518        0.066584\n",
      "1         MLP   1570.733952     0.039325  5.564087        0.309601\n",
      "2         KAN   1662.732449     0.040505  5.747465       38.772187\n",
      "3        LSTM    210.103071     0.013199  1.858936        4.057398\n",
      "4  Chronos T5    771.063953     0.026860  3.795010        0.000000\n"
     ]
    }
   ],
   "source": [
    "# Plot setup\n",
    "plt.rcParams.update({\n",
    "    \"font.family\": \"serif\",\n",
    "    \"axes.spines.top\": False,\n",
    "    \"axes.spines.right\": False\n",
    "})\n",
    "fig, ax = plt.subplots(figsize=(12, 5))\n",
    "\n",
    "# Plot actual series (last 24 months)\n",
    "ax.plot(series_zoom.index, series_zoom.values, label=\"Actual\", color=\"black\", linewidth=2)\n",
    "\n",
    "# Add forecast start boundary\n",
    "ax.axvline(prediction_start_date, color=\"lightgray\", linestyle=\"--\", linewidth=1)\n",
    "\n",
    "# Forecast lines\n",
    "ax.plot(forecast_index, pred_arima[:valid_length], linestyle=\"--\", linewidth=1.5)\n",
    "ax.plot(forecast_index, pred_mlp[-valid_length:], linewidth=1.5)\n",
    "ax.plot(forecast_index, pred_kan[-valid_length:], linestyle=\"-.\", linewidth=1.5)\n",
    "ax.plot(forecast_index, pred_lstm[-valid_length:], linestyle=\":\", linewidth=1.5)\n",
    "ax.plot(forecast_index, pred_chronos[-valid_length:], linestyle=\"dotted\", linewidth=1.5)\n",
    "\n",
    "def add_forecast_label(y_vals, label, offset=0):\n",
    "    ax.text(end_date + pd.DateOffset(months=1),\n",
    "            y_vals[-1] + offset,\n",
    "            label,\n",
    "            fontsize=9, va='center', ha='left')\n",
    "\n",
    "add_forecast_label(pred_arima[:valid_length], \"ARIMA\")\n",
    "add_forecast_label(pred_mlp[-valid_length:], \"MLP\")\n",
    "add_forecast_label(pred_kan[-valid_length:], \"KAN\")\n",
    "add_forecast_label(pred_lstm[-valid_length:], \"LSTM\")\n",
    "add_forecast_label(pred_chronos[-valid_length:], \"Chronos T5\")\n",
    "\n",
    "# Formatting\n",
    "ax.set_ylabel(\"Sales (Millions USD)\")\n",
    "ax.set_title(\"Retail Sales Forecasts (Last 24 Months, Forecast Starts at Grey Line)\")\n",
    "ax.xaxis.set_major_formatter(DateFormatter(\"%Y-%m\"))\n",
    "plt.tight_layout()\n",
    "# plt.savefig(\"retail_forecast_stream_labels_zoom.png\", dpi=300)\n",
    "plt.show()\n",
    "\n",
    "results.reset_index(names=\"Model\", inplace=True)\n",
    "with pd.option_context('display.max_rows', None,):\n",
    "    print(results)"
   ]
  }
 ],
 "metadata": {
  "kernelspec": {
   "display_name": "Python 3 (ipykernel)",
   "language": "python",
   "name": "python3"
  },
  "language_info": {
   "codemirror_mode": {
    "name": "ipython",
    "version": 3
   },
   "file_extension": ".py",
   "mimetype": "text/x-python",
   "name": "python",
   "nbconvert_exporter": "python",
   "pygments_lexer": "ipython3",
   "version": "3.12.4"
  }
 },
 "nbformat": 4,
 "nbformat_minor": 5
}
